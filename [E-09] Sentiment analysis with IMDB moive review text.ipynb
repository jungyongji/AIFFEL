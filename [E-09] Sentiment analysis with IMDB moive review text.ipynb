{
 "cells": [
  {
   "cell_type": "markdown",
   "id": "c704cb77",
   "metadata": {},
   "source": [
    "# Downgrade of gensim version"
   ]
  },
  {
   "cell_type": "markdown",
   "id": "c036678c",
   "metadata": {},
   "source": [
    "### 반드시 3.8.3버전이여야함"
   ]
  },
  {
   "cell_type": "code",
   "execution_count": 1,
   "id": "12341ebe",
   "metadata": {
    "scrolled": true
   },
   "outputs": [
    {
     "name": "stdout",
     "output_type": "stream",
     "text": [
      "Requirement already satisfied: gensim==3.8.3 in /aiffel/.local/lib/python3.9/site-packages (3.8.3)\n",
      "Requirement already satisfied: six>=1.5.0 in /opt/conda/lib/python3.9/site-packages (from gensim==3.8.3) (1.16.0)\n",
      "Requirement already satisfied: smart-open>=1.8.1 in /opt/conda/lib/python3.9/site-packages (from gensim==3.8.3) (5.2.1)\n",
      "Requirement already satisfied: numpy>=1.11.3 in /opt/conda/lib/python3.9/site-packages (from gensim==3.8.3) (1.21.4)\n",
      "Requirement already satisfied: scipy>=0.18.1 in /opt/conda/lib/python3.9/site-packages (from gensim==3.8.3) (1.7.1)\n",
      "\u001b[33mWARNING: Running pip as the 'root' user can result in broken permissions and conflicting behaviour with the system package manager. It is recommended to use a virtual environment instead: https://pip.pypa.io/warnings/venv\u001b[0m\n"
     ]
    }
   ],
   "source": [
    "!pip install --upgrade gensim==3.8.3 --user"
   ]
  },
  {
   "cell_type": "markdown",
   "id": "e36a69e1",
   "metadata": {},
   "source": [
    "# Restart kernel"
   ]
  },
  {
   "cell_type": "markdown",
   "id": "ef96d5bb",
   "metadata": {},
   "source": [
    "# 네이버 영화리뷰 감성분석"
   ]
  },
  {
   "cell_type": "markdown",
   "id": "d9fff7eb",
   "metadata": {},
   "source": [
    "## Imports"
   ]
  },
  {
   "cell_type": "code",
   "execution_count": 2,
   "id": "c338b0a6",
   "metadata": {},
   "outputs": [],
   "source": [
    "import os\n",
    "import konlpy\n",
    "import gensim\n",
    "import numpy as np\n",
    "import pandas as pd\n",
    "import tensorflow as tf\n",
    "import matplotlib.pyplot as plt\n",
    "\n",
    "from konlpy.tag import Mecab\n",
    "from collections import Counter\n",
    "\n",
    "import gensim\n",
    "from gensim.models import KeyedVectors\n",
    "from gensim.models.keyedvectors import Word2VecKeyedVectors\n",
    "\n",
    "from tensorflow.keras.models import load_model\n",
    "from tensorflow.keras.initializers import Constant\n",
    "from tensorflow.keras.callbacks import EarlyStopping, ModelCheckpoint"
   ]
  },
  {
   "cell_type": "markdown",
   "id": "dff50e60",
   "metadata": {},
   "source": [
    "## Data files"
   ]
  },
  {
   "cell_type": "code",
   "execution_count": 3,
   "id": "9cce6b86",
   "metadata": {},
   "outputs": [
    {
     "data": {
      "text/html": [
       "<div>\n",
       "<style scoped>\n",
       "    .dataframe tbody tr th:only-of-type {\n",
       "        vertical-align: middle;\n",
       "    }\n",
       "\n",
       "    .dataframe tbody tr th {\n",
       "        vertical-align: top;\n",
       "    }\n",
       "\n",
       "    .dataframe thead th {\n",
       "        text-align: right;\n",
       "    }\n",
       "</style>\n",
       "<table border=\"1\" class=\"dataframe\">\n",
       "  <thead>\n",
       "    <tr style=\"text-align: right;\">\n",
       "      <th></th>\n",
       "      <th>id</th>\n",
       "      <th>document</th>\n",
       "      <th>label</th>\n",
       "    </tr>\n",
       "  </thead>\n",
       "  <tbody>\n",
       "    <tr>\n",
       "      <th>0</th>\n",
       "      <td>9976970</td>\n",
       "      <td>아 더빙.. 진짜 짜증나네요 목소리</td>\n",
       "      <td>0</td>\n",
       "    </tr>\n",
       "    <tr>\n",
       "      <th>1</th>\n",
       "      <td>3819312</td>\n",
       "      <td>흠...포스터보고 초딩영화줄....오버연기조차 가볍지 않구나</td>\n",
       "      <td>1</td>\n",
       "    </tr>\n",
       "    <tr>\n",
       "      <th>2</th>\n",
       "      <td>10265843</td>\n",
       "      <td>너무재밓었다그래서보는것을추천한다</td>\n",
       "      <td>0</td>\n",
       "    </tr>\n",
       "    <tr>\n",
       "      <th>3</th>\n",
       "      <td>9045019</td>\n",
       "      <td>교도소 이야기구먼 ..솔직히 재미는 없다..평점 조정</td>\n",
       "      <td>0</td>\n",
       "    </tr>\n",
       "    <tr>\n",
       "      <th>4</th>\n",
       "      <td>6483659</td>\n",
       "      <td>사이몬페그의 익살스런 연기가 돋보였던 영화!스파이더맨에서 늙어보이기만 했던 커스틴 ...</td>\n",
       "      <td>1</td>\n",
       "    </tr>\n",
       "  </tbody>\n",
       "</table>\n",
       "</div>"
      ],
      "text/plain": [
       "         id                                           document  label\n",
       "0   9976970                                아 더빙.. 진짜 짜증나네요 목소리      0\n",
       "1   3819312                  흠...포스터보고 초딩영화줄....오버연기조차 가볍지 않구나      1\n",
       "2  10265843                                  너무재밓었다그래서보는것을추천한다      0\n",
       "3   9045019                      교도소 이야기구먼 ..솔직히 재미는 없다..평점 조정      0\n",
       "4   6483659  사이몬페그의 익살스런 연기가 돋보였던 영화!스파이더맨에서 늙어보이기만 했던 커스틴 ...      1"
      ]
     },
     "execution_count": 3,
     "metadata": {},
     "output_type": "execute_result"
    }
   ],
   "source": [
    "train_data = pd.read_table('~/aiffel/sentiment_classification/data/ratings_train.txt')\n",
    "test_data = pd.read_table('~/aiffel/sentiment_classification/data/ratings_test.txt')\n",
    "\n",
    "train_data.head()"
   ]
  },
  {
   "cell_type": "markdown",
   "id": "f2ce67db",
   "metadata": {},
   "source": [
    "## Data_loader"
   ]
  },
  {
   "cell_type": "code",
   "execution_count": 4,
   "id": "5cb961e3",
   "metadata": {},
   "outputs": [],
   "source": [
    "tokenizer = Mecab()\n",
    "stopwords = ['의','가','이','은','들','는','좀','잘','걍','과','도','를','으로','자','에','와','한','하다']"
   ]
  },
  {
   "cell_type": "code",
   "execution_count": 5,
   "id": "7ac397b9",
   "metadata": {},
   "outputs": [],
   "source": [
    "def load_data(train_data, test_data, num_words=10000):\n",
    "    train_data.drop_duplicates(subset=['document'], inplace=True)\n",
    "    train_data = train_data.dropna(how = 'any') \n",
    "    test_data.drop_duplicates(subset=['document'], inplace=True)\n",
    "    test_data = test_data.dropna(how = 'any') \n",
    "    \n",
    "    X_train = []\n",
    "    for sentence in train_data['document']:\n",
    "        temp_X = tokenizer.morphs(sentence) # 토큰화\n",
    "        temp_X = [word for word in temp_X if not word in stopwords] # 불용어 제거\n",
    "        X_train.append(temp_X)\n",
    "\n",
    "    X_test = []\n",
    "    for sentence in test_data['document']:\n",
    "        temp_X = tokenizer.morphs(sentence) # 토큰화\n",
    "        temp_X = [word for word in temp_X if not word in stopwords] # 불용어 제거\n",
    "        X_test.append(temp_X)\n",
    "    \n",
    "    words = np.concatenate(X_train).tolist()\n",
    "    counter = Counter(words)\n",
    "    counter = counter.most_common(10000-4)\n",
    "    vocab = ['<PAD>', '<BOS>', '<UNK>', '<UNUSED>'] + [key for key, _ in counter]\n",
    "    word_to_index = {word:index for index, word in enumerate(vocab)}\n",
    "        \n",
    "    def wordlist_to_indexlist(wordlist):\n",
    "        return [word_to_index[word] if word in word_to_index else word_to_index['<UNK>'] for word in wordlist]\n",
    "        \n",
    "    X_train = list(map(wordlist_to_indexlist, X_train))\n",
    "    X_test = list(map(wordlist_to_indexlist, X_test))\n",
    "        \n",
    "    return X_train, np.array(list(train_data['label'])), X_test, np.array(list(test_data['label'])), word_to_index"
   ]
  },
  {
   "cell_type": "code",
   "execution_count": 6,
   "id": "7610f02f",
   "metadata": {},
   "outputs": [],
   "source": [
    "x_train, y_train, x_test, y_test, word_to_index = load_data(train_data, test_data)"
   ]
  },
  {
   "cell_type": "code",
   "execution_count": 7,
   "id": "9651ded5",
   "metadata": {},
   "outputs": [],
   "source": [
    "index_to_word = {index:word for word, index in word_to_index.items()}"
   ]
  },
  {
   "cell_type": "code",
   "execution_count": 8,
   "id": "41a1e45d",
   "metadata": {},
   "outputs": [],
   "source": [
    "# 문장 1개를 활용할 딕셔너리와 함께 주면, 단어 인덱스 리스트 벡터로 변환해 주는 함수입니다. \n",
    "# 단, 모든 문장은 <BOS>로 시작하는 것으로 합니다. \n",
    "def get_encoded_sentence(sentence, word_to_index):\n",
    "    return [word_to_index['<BOS>']]+[word_to_index[word] if word in word_to_index else word_to_index['<UNK>'] for word in sentence.split()]\n",
    "\n",
    "# 여러 개의 문장 리스트를 한꺼번에 단어 인덱스 리스트 벡터로 encode해 주는 함수입니다. \n",
    "def get_encoded_sentences(sentences, word_to_index):\n",
    "    return [get_encoded_sentence(sentence, word_to_index) for sentence in sentences]\n",
    "\n",
    "# 숫자 벡터로 encode된 문장을 원래대로 decode하는 함수입니다. \n",
    "def get_decoded_sentence(encoded_sentence, index_to_word):\n",
    "    return ' '.join(index_to_word[index] if index in index_to_word else '<UNK>' for index in encoded_sentence[1:])  #[1:]를 통해 <BOS>를 제외\n",
    "\n",
    "# 여러 개의 숫자 벡터로 encode된 문장을 한꺼번에 원래대로 decode하는 함수입니다. \n",
    "def get_decoded_sentences(encoded_sentences, index_to_word):\n",
    "    return [get_decoded_sentence(encoded_sentence, index_to_word) for encoded_sentence in encoded_sentences]"
   ]
  },
  {
   "cell_type": "code",
   "execution_count": 9,
   "id": "c4ecaf33",
   "metadata": {},
   "outputs": [
    {
     "name": "stdout",
     "output_type": "stream",
     "text": [
      "문장길이 평균 :  15.96940191154864\n",
      "문장길이 최대 :  116\n",
      "문장길이 표준편차 :  12.843571191092\n",
      "pad_sequences maxlen :  48\n",
      "전체 문장의 0.9548784420929768%가 maxlen 설정값 이내에 포함됩니다. \n"
     ]
    }
   ],
   "source": [
    "total_data_text = list(x_train) + list(x_test)\n",
    "# 텍스트데이터 문장길이의 리스트를 생성한 후\n",
    "num_tokens = [len(tokens) for tokens in total_data_text]\n",
    "num_tokens = np.array(num_tokens)\n",
    "# 문장길이의 평균값, 최대값, 표준편차를 계산해 본다. \n",
    "print('문장길이 평균 : ', np.mean(num_tokens))\n",
    "print('문장길이 최대 : ', np.max(num_tokens))\n",
    "print('문장길이 표준편차 : ', np.std(num_tokens))\n",
    "\n",
    "# 예를들어, 최대 길이를 (평균 + 2*표준편차)로 한다면,  \n",
    "max_tokens = np.mean(num_tokens) + 2.5* np.std(num_tokens)\n",
    "maxlen = int(max_tokens)\n",
    "print('pad_sequences maxlen : ', maxlen)\n",
    "print('전체 문장의 {}%가 maxlen 설정값 이내에 포함됩니다. '.format(np.sum(num_tokens < max_tokens) / len(num_tokens)))"
   ]
  },
  {
   "cell_type": "code",
   "execution_count": 10,
   "id": "61dffad0",
   "metadata": {},
   "outputs": [
    {
     "name": "stdout",
     "output_type": "stream",
     "text": [
      "(146182, 48)\n"
     ]
    }
   ],
   "source": [
    "x_train = tf.keras.preprocessing.sequence.pad_sequences(x_train,\n",
    "                                                        value=word_to_index[\"<PAD>\"],\n",
    "                                                        padding='post', # 혹은 'pre'\n",
    "                                                        maxlen=maxlen)\n",
    "\n",
    "x_test = tf.keras.preprocessing.sequence.pad_sequences(x_test,\n",
    "                                                       value=word_to_index[\"<PAD>\"],\n",
    "                                                       padding='post', # 혹은 'pre'\n",
    "                                                       maxlen=maxlen)\n",
    "\n",
    "print(x_train.shape)"
   ]
  },
  {
   "cell_type": "code",
   "execution_count": 11,
   "id": "a5a0e76c",
   "metadata": {},
   "outputs": [
    {
     "name": "stdout",
     "output_type": "stream",
     "text": [
      "(146182, 48)\n",
      "(49157, 48)\n"
     ]
    }
   ],
   "source": [
    "print(x_train.shape)\n",
    "print(x_test.shape)"
   ]
  },
  {
   "cell_type": "code",
   "execution_count": 12,
   "id": "ee500ab4",
   "metadata": {},
   "outputs": [
    {
     "name": "stdout",
     "output_type": "stream",
     "text": [
      "(96182, 48)\n",
      "(96182,)\n"
     ]
    }
   ],
   "source": [
    "x_val = x_train[:50000]   \n",
    "y_val = y_train[:50000]\n",
    "\n",
    "partial_x_train = x_train[50000:]  \n",
    "partial_y_train = y_train[50000:]\n",
    "\n",
    "print(partial_x_train.shape)\n",
    "print(partial_y_train.shape)"
   ]
  },
  {
   "cell_type": "markdown",
   "id": "5c15b14b",
   "metadata": {},
   "source": [
    "# LSTM"
   ]
  },
  {
   "cell_type": "code",
   "execution_count": 13,
   "id": "5d4a2fbd",
   "metadata": {},
   "outputs": [],
   "source": [
    "vocab_size = 10000    # 어휘 사전의 크기입니다(10,000개의 단어)\n",
    "word_vector_dim = 128  # 워드 벡터의 차원 수 (변경 가능한 하이퍼파라미터)"
   ]
  },
  {
   "cell_type": "code",
   "execution_count": 14,
   "id": "c6a7d7a0",
   "metadata": {},
   "outputs": [
    {
     "name": "stdout",
     "output_type": "stream",
     "text": [
      "Model: \"sequential\"\n",
      "_________________________________________________________________\n",
      "Layer (type)                 Output Shape              Param #   \n",
      "=================================================================\n",
      "embedding (Embedding)        (None, None, 128)         1280000   \n",
      "_________________________________________________________________\n",
      "lstm (LSTM)                  (None, 128)               131584    \n",
      "_________________________________________________________________\n",
      "dense (Dense)                (None, 1)                 129       \n",
      "=================================================================\n",
      "Total params: 1,411,713\n",
      "Trainable params: 1,411,713\n",
      "Non-trainable params: 0\n",
      "_________________________________________________________________\n"
     ]
    }
   ],
   "source": [
    "model = tf.keras.Sequential()\n",
    "model.add(tf.keras.layers.Embedding(vocab_size, word_vector_dim, input_shape=(None,)))\n",
    "model.add(tf.keras.layers.LSTM(128))\n",
    "model.add(tf.keras.layers.Dense(1, activation='sigmoid'))\n",
    "\n",
    "model.summary()"
   ]
  },
  {
   "cell_type": "code",
   "execution_count": 15,
   "id": "6fc62da4",
   "metadata": {},
   "outputs": [],
   "source": [
    "model.compile(optimizer='adam', loss='binary_crossentropy', metrics=['accuracy'])"
   ]
  },
  {
   "cell_type": "code",
   "execution_count": 16,
   "id": "233d0a60",
   "metadata": {},
   "outputs": [],
   "source": [
    "early = EarlyStopping(monitor='val_loss', mode='min', verbose=1, patience=5)\n",
    "check = ModelCheckpoint('best_model_lstm.h5', monitor='val_acc', mode='max', verbose=1, save_bast_only=True)"
   ]
  },
  {
   "cell_type": "code",
   "execution_count": 17,
   "id": "2e4a2268",
   "metadata": {},
   "outputs": [
    {
     "name": "stdout",
     "output_type": "stream",
     "text": [
      "Epoch 1/20\n",
      "376/376 [==============================] - 7s 10ms/step - loss: 0.4530 - accuracy: 0.7654 - val_loss: 0.3547 - val_accuracy: 0.8468\n",
      "\n",
      "Epoch 00001: saving model to best_model_lstm.h5\n",
      "Epoch 2/20\n",
      "376/376 [==============================] - 3s 8ms/step - loss: 0.3328 - accuracy: 0.8591 - val_loss: 0.3508 - val_accuracy: 0.8427\n",
      "\n",
      "Epoch 00002: saving model to best_model_lstm.h5\n",
      "Epoch 3/20\n",
      "376/376 [==============================] - 3s 8ms/step - loss: 0.2967 - accuracy: 0.8742 - val_loss: 0.3441 - val_accuracy: 0.8491\n",
      "\n",
      "Epoch 00003: saving model to best_model_lstm.h5\n",
      "Epoch 4/20\n",
      "376/376 [==============================] - 3s 9ms/step - loss: 0.2636 - accuracy: 0.8911 - val_loss: 0.3416 - val_accuracy: 0.8554\n",
      "\n",
      "Epoch 00004: saving model to best_model_lstm.h5\n",
      "Epoch 5/20\n",
      "376/376 [==============================] - 3s 9ms/step - loss: 0.2346 - accuracy: 0.9034 - val_loss: 0.3857 - val_accuracy: 0.8528\n",
      "\n",
      "Epoch 00005: saving model to best_model_lstm.h5\n",
      "Epoch 6/20\n",
      "376/376 [==============================] - 3s 9ms/step - loss: 0.2112 - accuracy: 0.9146 - val_loss: 0.3779 - val_accuracy: 0.8527\n",
      "\n",
      "Epoch 00006: saving model to best_model_lstm.h5\n",
      "Epoch 7/20\n",
      "376/376 [==============================] - 3s 9ms/step - loss: 0.1883 - accuracy: 0.9268 - val_loss: 0.4199 - val_accuracy: 0.8468\n",
      "\n",
      "Epoch 00007: saving model to best_model_lstm.h5\n",
      "Epoch 8/20\n",
      "376/376 [==============================] - 3s 9ms/step - loss: 0.1704 - accuracy: 0.9355 - val_loss: 0.4249 - val_accuracy: 0.8430\n",
      "\n",
      "Epoch 00008: saving model to best_model_lstm.h5\n",
      "Epoch 9/20\n",
      "376/376 [==============================] - 3s 9ms/step - loss: 0.1527 - accuracy: 0.9417 - val_loss: 0.4463 - val_accuracy: 0.8431\n",
      "\n",
      "Epoch 00009: saving model to best_model_lstm.h5\n",
      "Epoch 00009: early stopping\n"
     ]
    }
   ],
   "source": [
    "lstm_history = model.fit(partial_x_train,\n",
    "                    partial_y_train,\n",
    "                    epochs=20,\n",
    "                    callbacks=[early, check],\n",
    "                    batch_size=256,\n",
    "                    validation_data=(x_val, y_val),\n",
    "                    verbose=1)"
   ]
  },
  {
   "cell_type": "code",
   "execution_count": 18,
   "id": "b7d89000",
   "metadata": {},
   "outputs": [
    {
     "name": "stdout",
     "output_type": "stream",
     "text": [
      "1537/1537 - 4s - loss: 0.4538 - accuracy: 0.8393\n",
      "[0.45381903648376465, 0.8392701148986816]\n"
     ]
    }
   ],
   "source": [
    "loaded_model = load_model('best_model_lstm.h5')\n",
    "results = loaded_model.evaluate(x_test,  y_test, verbose=2)\n",
    "\n",
    "print(results)"
   ]
  },
  {
   "cell_type": "code",
   "execution_count": 19,
   "id": "7e9798ee",
   "metadata": {},
   "outputs": [
    {
     "data": {
      "image/png": "[encoded data removed]",
      "text/plain": [
       "<Figure size 432x288 with 1 Axes>"
      ]
     },
     "metadata": {
      "needs_background": "light"
     },
     "output_type": "display_data"
    }
   ],
   "source": [
    "lstm_history_dict = lstm_history.history\n",
    "\n",
    "acc = lstm_history_dict['accuracy']\n",
    "val_acc = lstm_history_dict['val_accuracy']\n",
    "loss = lstm_history_dict['loss']\n",
    "val_loss = lstm_history_dict['val_loss']\n",
    "\n",
    "epochs = range(1, len(acc) + 1)\n",
    "\n",
    "# \"bo\"는 \"파란색 점\"입니다\n",
    "plt.plot(epochs, loss, 'bo', label='Training loss')\n",
    "# b는 \"파란 실선\"입니다\n",
    "plt.plot(epochs, val_loss, 'b', label='Validation loss')\n",
    "plt.title('Training and validation loss')\n",
    "plt.xlabel('Epochs')\n",
    "plt.ylabel('Loss')\n",
    "plt.legend()\n",
    "\n",
    "plt.show()"
   ]
  },
  {
   "cell_type": "code",
   "execution_count": 20,
   "id": "cc78f561",
   "metadata": {},
   "outputs": [
    {
     "data": {
      "image/png": "[encoded data removed]",
      "text/plain": [
       "<Figure size 432x288 with 1 Axes>"
      ]
     },
     "metadata": {
      "needs_background": "light"
     },
     "output_type": "display_data"
    }
   ],
   "source": [
    "plt.clf()   # 그림을 초기화합니다\n",
    "\n",
    "plt.plot(epochs, acc, 'bo', label='Training acc')\n",
    "plt.plot(epochs, val_acc, 'b', label='Validation acc')\n",
    "plt.title('Training and validation accuracy')\n",
    "plt.xlabel('Epochs')\n",
    "plt.ylabel('Accuracy')\n",
    "plt.legend()\n",
    "\n",
    "plt.show()"
   ]
  },
  {
   "cell_type": "code",
   "execution_count": 21,
   "id": "eacb0fe4",
   "metadata": {},
   "outputs": [
    {
     "name": "stdout",
     "output_type": "stream",
     "text": [
      "(10000, 128)\n"
     ]
    }
   ],
   "source": [
    "embedding_layer = model.layers[0]\n",
    "weights = embedding_layer.get_weights()[0]\n",
    "print(weights.shape)    # shape: (vocab_size, embedding_dim)"
   ]
  },
  {
   "cell_type": "code",
   "execution_count": 22,
   "id": "daab88e5",
   "metadata": {},
   "outputs": [],
   "source": [
    "# 학습한 Embedding 파라미터를 파일에 써서 저장합니다. \n",
    "word2vec_file_path = os.getenv('HOME')+'/aiffel/sentiment_classification/data/lstm_word2vec.txt'\n",
    "f = open(word2vec_file_path, 'w')\n",
    "f.write('{} {}\\n'.format(vocab_size-4, word_vector_dim))  # 몇개의 벡터를 얼마 사이즈로 기재할지 타이틀을 씁니다.\n",
    "\n",
    "# 단어 개수(에서 특수문자 4개는 제외하고)만큼의 워드 벡터를 파일에 기록합니다. \n",
    "vectors = model.get_weights()[0]\n",
    "for i in range(4,vocab_size):\n",
    "    f.write('{} {}\\n'.format(index_to_word[i], ' '.join(map(str, list(vectors[i, :])))))\n",
    "f.close()"
   ]
  },
  {
   "cell_type": "code",
   "execution_count": 23,
   "id": "1dd08951",
   "metadata": {},
   "outputs": [],
   "source": [
    "word_vectors = Word2VecKeyedVectors.load_word2vec_format(word2vec_file_path, binary=False)"
   ]
  },
  {
   "cell_type": "code",
   "execution_count": 24,
   "id": "9b8104bc",
   "metadata": {},
   "outputs": [
    {
     "data": {
      "text/plain": [
       "[('에이', 0.6642122864723206),\n",
       " ('여긴', 0.6262344121932983),\n",
       " ('이정재', 0.6163715124130249),\n",
       " ('버티', 0.6146203875541687),\n",
       " ('지능', 0.6084663271903992),\n",
       " ('관가', 0.6077626943588257),\n",
       " ('온통', 0.6077057123184204),\n",
       " ('자고', 0.6057048439979553),\n",
       " ('베드', 0.6043856739997864),\n",
       " ('허비', 0.6008208990097046)]"
      ]
     },
     "execution_count": 24,
     "metadata": {},
     "output_type": "execute_result"
    }
   ],
   "source": [
    "word_vectors.similar_by_word(\"기술\")"
   ]
  },
  {
   "cell_type": "markdown",
   "id": "432b230d",
   "metadata": {},
   "source": [
    "# 한국어 Word2Vec"
   ]
  },
  {
   "cell_type": "code",
   "execution_count": 25,
   "id": "3e46ddbe",
   "metadata": {},
   "outputs": [],
   "source": [
    "ko_word2vec_path = os.getenv('HOME')+'/aiffel/sentiment_classification/data/ko.bin'\n",
    "ko_word2vec = gensim.models.Word2Vec.load(ko_word2vec_path)"
   ]
  },
  {
   "cell_type": "code",
   "execution_count": 26,
   "id": "65882cfe",
   "metadata": {},
   "outputs": [
    {
     "name": "stderr",
     "output_type": "stream",
     "text": [
      "/tmp/ipykernel_1719/2447483060.py:1: DeprecationWarning: Call to deprecated `similar_by_word` (Method will be removed in 4.0.0, use self.wv.similar_by_word() instead).\n",
      "  ko_word2vec.similar_by_word(\"사랑\")\n"
     ]
    },
    {
     "data": {
      "text/plain": [
       "[('슬픔', 0.7216662764549255),\n",
       " ('행복', 0.6759077310562134),\n",
       " ('절망', 0.6468985080718994),\n",
       " ('기쁨', 0.6458414196968079),\n",
       " ('이별', 0.6334798336029053),\n",
       " ('추억', 0.6320937275886536),\n",
       " ('인생', 0.6216273307800293),\n",
       " ('애정', 0.6206069588661194),\n",
       " ('연인', 0.6186063289642334),\n",
       " ('유혹', 0.5965287685394287)]"
      ]
     },
     "execution_count": 26,
     "metadata": {},
     "output_type": "execute_result"
    }
   ],
   "source": [
    "ko_word2vec.similar_by_word(\"사랑\")"
   ]
  },
  {
   "cell_type": "code",
   "execution_count": 27,
   "id": "8dd9e440",
   "metadata": {},
   "outputs": [],
   "source": [
    "vocab_size = 10000    # 어휘 사전의 크기입니다(10,000개의 단어)\n",
    "word_vector_dim = 200  # 워드 벡터의 차원 수 (변경 가능한 하이퍼파라미터)"
   ]
  },
  {
   "cell_type": "code",
   "execution_count": 28,
   "id": "2efe34c3",
   "metadata": {},
   "outputs": [
    {
     "name": "stderr",
     "output_type": "stream",
     "text": [
      "/tmp/ipykernel_1719/1899424056.py:5: DeprecationWarning: Call to deprecated `__contains__` (Method will be removed in 4.0.0, use self.wv.__contains__() instead).\n",
      "  if index_to_word[i] in ko_word2vec:\n",
      "/tmp/ipykernel_1719/1899424056.py:6: DeprecationWarning: Call to deprecated `__getitem__` (Method will be removed in 4.0.0, use self.wv.__getitem__() instead).\n",
      "  embedding_matrix[i] = ko_word2vec[index_to_word[i]]\n"
     ]
    }
   ],
   "source": [
    "embedding_matrix = np.random.rand(vocab_size, word_vector_dim)\n",
    "\n",
    "# embedding_matrix에 Word2Vec 워드 벡터를 단어 하나씩마다 차례차례 카피한다.\n",
    "for i in range(4,vocab_size):\n",
    "    if index_to_word[i] in ko_word2vec:\n",
    "        embedding_matrix[i] = ko_word2vec[index_to_word[i]]"
   ]
  },
  {
   "cell_type": "code",
   "execution_count": 29,
   "id": "83b017dc",
   "metadata": {},
   "outputs": [
    {
     "name": "stdout",
     "output_type": "stream",
     "text": [
      "Model: \"sequential_1\"\n",
      "_________________________________________________________________\n",
      "Layer (type)                 Output Shape              Param #   \n",
      "=================================================================\n",
      "embedding_1 (Embedding)      (None, 48, 200)           2000000   \n",
      "_________________________________________________________________\n",
      "lstm_1 (LSTM)                (None, 128)               168448    \n",
      "_________________________________________________________________\n",
      "dense_1 (Dense)              (None, 1)                 129       \n",
      "=================================================================\n",
      "Total params: 2,168,577\n",
      "Trainable params: 2,168,577\n",
      "Non-trainable params: 0\n",
      "_________________________________________________________________\n"
     ]
    }
   ],
   "source": [
    "# 모델 구성\n",
    "model = tf.keras.Sequential()\n",
    "model.add(tf.keras.layers.Embedding(vocab_size, \n",
    "                                 word_vector_dim, \n",
    "                                 embeddings_initializer=Constant(embedding_matrix),  # 카피한 임베딩을 여기서 활용\n",
    "                                 input_length=maxlen, \n",
    "                                 trainable=True))   # trainable을 True로 주면 Fine-tuning\n",
    "model.add(tf.keras.layers.LSTM(128))\n",
    "model.add(tf.keras.layers.Dense(1, activation='sigmoid'))\n",
    "\n",
    "model.summary()"
   ]
  },
  {
   "cell_type": "code",
   "execution_count": 30,
   "id": "c14fc4bf",
   "metadata": {},
   "outputs": [],
   "source": [
    "model.compile(optimizer='adam', loss='binary_crossentropy', metrics=['accuracy'])\n",
    "\n",
    "early = EarlyStopping(monitor='val_loss', mode='min', verbose=1, patience=5)\n",
    "check = ModelCheckpoint('best_model_lstm_ko.h5', monitor='val_acc', mode='max', verbose=1, save_bast_only=True)"
   ]
  },
  {
   "cell_type": "code",
   "execution_count": 31,
   "id": "2db16e10",
   "metadata": {},
   "outputs": [
    {
     "name": "stdout",
     "output_type": "stream",
     "text": [
      "Epoch 1/20\n",
      "376/376 [==============================] - 6s 11ms/step - loss: 0.5686 - accuracy: 0.6718 - val_loss: 0.4016 - val_accuracy: 0.8235\n",
      "\n",
      "Epoch 00001: saving model to best_model_lstm_ko.h5\n",
      "Epoch 2/20\n",
      "376/376 [==============================] - 4s 10ms/step - loss: 0.3577 - accuracy: 0.8447 - val_loss: 0.3352 - val_accuracy: 0.8542\n",
      "\n",
      "Epoch 00002: saving model to best_model_lstm_ko.h5\n",
      "Epoch 3/20\n",
      "376/376 [==============================] - 4s 11ms/step - loss: 0.2959 - accuracy: 0.8746 - val_loss: 0.3254 - val_accuracy: 0.8589\n",
      "\n",
      "Epoch 00003: saving model to best_model_lstm_ko.h5\n",
      "Epoch 4/20\n",
      "376/376 [==============================] - 4s 11ms/step - loss: 0.2584 - accuracy: 0.8941 - val_loss: 0.3303 - val_accuracy: 0.8618\n",
      "\n",
      "Epoch 00004: saving model to best_model_lstm_ko.h5\n",
      "Epoch 5/20\n",
      "376/376 [==============================] - 4s 11ms/step - loss: 0.2255 - accuracy: 0.9103 - val_loss: 0.3393 - val_accuracy: 0.8622\n",
      "\n",
      "Epoch 00005: saving model to best_model_lstm_ko.h5\n",
      "Epoch 6/20\n",
      "376/376 [==============================] - 4s 11ms/step - loss: 0.1967 - accuracy: 0.9233 - val_loss: 0.3539 - val_accuracy: 0.8604\n",
      "\n",
      "Epoch 00006: saving model to best_model_lstm_ko.h5\n",
      "Epoch 7/20\n",
      "376/376 [==============================] - 4s 11ms/step - loss: 0.1678 - accuracy: 0.9364 - val_loss: 0.3916 - val_accuracy: 0.8595\n",
      "\n",
      "Epoch 00007: saving model to best_model_lstm_ko.h5\n",
      "Epoch 8/20\n",
      "376/376 [==============================] - 4s 10ms/step - loss: 0.1451 - accuracy: 0.9465 - val_loss: 0.4145 - val_accuracy: 0.8536\n",
      "\n",
      "Epoch 00008: saving model to best_model_lstm_ko.h5\n",
      "Epoch 00008: early stopping\n"
     ]
    }
   ],
   "source": [
    "lstm_history = model.fit(partial_x_train,\n",
    "                    partial_y_train,\n",
    "                    epochs=20,\n",
    "                    callbacks=[early, check],\n",
    "                    batch_size=256,\n",
    "                    validation_data=(x_val, y_val),\n",
    "                    verbose=1)"
   ]
  },
  {
   "cell_type": "code",
   "execution_count": 32,
   "id": "401ea3f3",
   "metadata": {},
   "outputs": [
    {
     "name": "stdout",
     "output_type": "stream",
     "text": [
      "1537/1537 - 4s - loss: 0.4181 - accuracy: 0.8522\n",
      "[0.41810983419418335, 0.852228581905365]\n"
     ]
    }
   ],
   "source": [
    "loaded_model = load_model('best_model_lstm_ko.h5')\n",
    "results = loaded_model.evaluate(x_test,  y_test, verbose=2)\n",
    "\n",
    "print(results)"
   ]
  },
  {
   "cell_type": "markdown",
   "id": "1ceb1fc0",
   "metadata": {},
   "source": [
    "# 1-D CNN"
   ]
  },
  {
   "cell_type": "code",
   "execution_count": 33,
   "id": "5f848ac4",
   "metadata": {
    "scrolled": true
   },
   "outputs": [
    {
     "name": "stdout",
     "output_type": "stream",
     "text": [
      "Model: \"sequential_2\"\n",
      "_________________________________________________________________\n",
      "Layer (type)                 Output Shape              Param #   \n",
      "=================================================================\n",
      "embedding_2 (Embedding)      (None, None, 64)          640000    \n",
      "_________________________________________________________________\n",
      "conv1d (Conv1D)              (None, None, 64)          28736     \n",
      "_________________________________________________________________\n",
      "max_pooling1d (MaxPooling1D) (None, None, 64)          0         \n",
      "_________________________________________________________________\n",
      "conv1d_1 (Conv1D)            (None, None, 64)          28736     \n",
      "_________________________________________________________________\n",
      "global_max_pooling1d (Global (None, 64)                0         \n",
      "_________________________________________________________________\n",
      "dense_2 (Dense)              (None, 128)               8320      \n",
      "_________________________________________________________________\n",
      "dense_3 (Dense)              (None, 1)                 129       \n",
      "=================================================================\n",
      "Total params: 705,921\n",
      "Trainable params: 705,921\n",
      "Non-trainable params: 0\n",
      "_________________________________________________________________\n"
     ]
    }
   ],
   "source": [
    "vocab_size = 10000    # 어휘 사전의 크기입니다(10,000개의 단어)\n",
    "word_vector_dim = 64  # 워드 벡터의 차원 수 (변경 가능한 하이퍼파라미터)\n",
    "\n",
    "\n",
    "model = tf.keras.Sequential()\n",
    "model.add(tf.keras.layers.Embedding(vocab_size, word_vector_dim, input_shape=(None,)))\n",
    "model.add(tf.keras.layers.Conv1D(64, 7, activation='relu'))\n",
    "model.add(tf.keras.layers.MaxPooling1D(5))\n",
    "model.add(tf.keras.layers.Conv1D(64, 7, activation='relu'))\n",
    "model.add(tf.keras.layers.GlobalMaxPooling1D())\n",
    "model.add(tf.keras.layers.Dense(128, activation='relu'))\n",
    "model.add(tf.keras.layers.Dense(1, activation='sigmoid'))  # 최종 출력은 긍정/부정을 나타내는 1dim 입니다.\n",
    "\n",
    "model.summary()"
   ]
  },
  {
   "cell_type": "code",
   "execution_count": 34,
   "id": "e22027e3",
   "metadata": {},
   "outputs": [],
   "source": [
    "model.compile(optimizer='adam', loss='binary_crossentropy', metrics=['accuracy'])"
   ]
  },
  {
   "cell_type": "code",
   "execution_count": 35,
   "id": "b01b8624",
   "metadata": {},
   "outputs": [],
   "source": [
    "early = EarlyStopping(monitor='val_loss', mode='min', verbose=1, patience=5)\n",
    "check = ModelCheckpoint('best_model_1dcnn.h5', monitor='val_acc', mode='max', verbose=1, save_bast_only=True)"
   ]
  },
  {
   "cell_type": "code",
   "execution_count": 36,
   "id": "9876bf07",
   "metadata": {},
   "outputs": [
    {
     "name": "stdout",
     "output_type": "stream",
     "text": [
      "Epoch 1/20\n",
      "376/376 [==============================] - 4s 6ms/step - loss: 0.4177 - accuracy: 0.7995 - val_loss: 0.3372 - val_accuracy: 0.8515\n",
      "\n",
      "Epoch 00001: saving model to best_model_1dcnn.h5\n",
      "Epoch 2/20\n",
      "376/376 [==============================] - 2s 6ms/step - loss: 0.2899 - accuracy: 0.8808 - val_loss: 0.3257 - val_accuracy: 0.8599\n",
      "\n",
      "Epoch 00002: saving model to best_model_1dcnn.h5\n",
      "Epoch 3/20\n",
      "376/376 [==============================] - 2s 6ms/step - loss: 0.2126 - accuracy: 0.9164 - val_loss: 0.3546 - val_accuracy: 0.8524\n",
      "\n",
      "Epoch 00003: saving model to best_model_1dcnn.h5\n",
      "Epoch 4/20\n",
      "376/376 [==============================] - 2s 6ms/step - loss: 0.1281 - accuracy: 0.9543 - val_loss: 0.4344 - val_accuracy: 0.8452\n",
      "\n",
      "Epoch 00004: saving model to best_model_1dcnn.h5\n",
      "Epoch 5/20\n",
      "376/376 [==============================] - 2s 6ms/step - loss: 0.0761 - accuracy: 0.9733 - val_loss: 0.5578 - val_accuracy: 0.8433\n",
      "\n",
      "Epoch 00005: saving model to best_model_1dcnn.h5\n",
      "Epoch 6/20\n",
      "376/376 [==============================] - 2s 6ms/step - loss: 0.0506 - accuracy: 0.9825 - val_loss: 0.6970 - val_accuracy: 0.8430\n",
      "\n",
      "Epoch 00006: saving model to best_model_1dcnn.h5\n",
      "Epoch 7/20\n",
      "376/376 [==============================] - 2s 6ms/step - loss: 0.0402 - accuracy: 0.9857 - val_loss: 0.7831 - val_accuracy: 0.8382\n",
      "\n",
      "Epoch 00007: saving model to best_model_1dcnn.h5\n",
      "Epoch 00007: early stopping\n"
     ]
    }
   ],
   "source": [
    "lstm_history = model.fit(partial_x_train,\n",
    "                    partial_y_train,\n",
    "                    epochs=20,\n",
    "                    callbacks=[early, check],\n",
    "                    batch_size=256,\n",
    "                    validation_data=(x_val, y_val),\n",
    "                    verbose=1)"
   ]
  },
  {
   "cell_type": "code",
   "execution_count": 37,
   "id": "69d9e5e6",
   "metadata": {},
   "outputs": [
    {
     "name": "stdout",
     "output_type": "stream",
     "text": [
      "1537/1537 - 3s - loss: 0.8072 - accuracy: 0.8352\n",
      "[0.8072381615638733, 0.8351811766624451]\n"
     ]
    }
   ],
   "source": [
    "loaded_model = load_model('best_model_1dcnn.h5')\n",
    "results = loaded_model.evaluate(x_test,  y_test, verbose=2)\n",
    "\n",
    "print(results)"
   ]
  },
  {
   "cell_type": "code",
   "execution_count": 38,
   "id": "bb053947",
   "metadata": {},
   "outputs": [
    {
     "data": {
      "image/png": "[encoded data removed]",
      "text/plain": [
       "<Figure size 432x288 with 1 Axes>"
      ]
     },
     "metadata": {
      "needs_background": "light"
     },
     "output_type": "display_data"
    }
   ],
   "source": [
    "lstm_history_dict = lstm_history.history\n",
    "\n",
    "acc = lstm_history_dict['accuracy']\n",
    "val_acc = lstm_history_dict['val_accuracy']\n",
    "loss = lstm_history_dict['loss']\n",
    "val_loss = lstm_history_dict['val_loss']\n",
    "\n",
    "epochs = range(1, len(acc) + 1)\n",
    "\n",
    "# \"bo\"는 \"파란색 점\"입니다\n",
    "plt.plot(epochs, loss, 'bo', label='Training loss')\n",
    "# b는 \"파란 실선\"입니다\n",
    "plt.plot(epochs, val_loss, 'b', label='Validation loss')\n",
    "plt.title('Training and validation loss')\n",
    "plt.xlabel('Epochs')\n",
    "plt.ylabel('Loss')\n",
    "plt.legend()\n",
    "\n",
    "plt.show()"
   ]
  },
  {
   "cell_type": "code",
   "execution_count": 39,
   "id": "5106c3ec",
   "metadata": {},
   "outputs": [
    {
     "data": {
      "image/png": "[encoded data removed]",
      "text/plain": [
       "<Figure size 432x288 with 1 Axes>"
      ]
     },
     "metadata": {
      "needs_background": "light"
     },
     "output_type": "display_data"
    }
   ],
   "source": [
    "plt.clf()   # 그림을 초기화합니다\n",
    "\n",
    "plt.plot(epochs, acc, 'bo', label='Training acc')\n",
    "plt.plot(epochs, val_acc, 'b', label='Validation acc')\n",
    "plt.title('Training and validation accuracy')\n",
    "plt.xlabel('Epochs')\n",
    "plt.ylabel('Accuracy')\n",
    "plt.legend()\n",
    "\n",
    "plt.show()"
   ]
  },
  {
   "cell_type": "code",
   "execution_count": 40,
   "id": "c22fe865",
   "metadata": {},
   "outputs": [
    {
     "name": "stdout",
     "output_type": "stream",
     "text": [
      "(10000, 64)\n"
     ]
    }
   ],
   "source": [
    "embedding_layer = model.layers[0]\n",
    "weights = embedding_layer.get_weights()[0]\n",
    "print(weights.shape)    # shape: (vocab_size, embedding_dim)"
   ]
  },
  {
   "cell_type": "code",
   "execution_count": 41,
   "id": "f8bda5df",
   "metadata": {},
   "outputs": [],
   "source": [
    "# 학습한 Embedding 파라미터를 파일에 써서 저장합니다. \n",
    "word2vec_file_path = os.getenv('HOME')+'/aiffel/sentiment_classification/data/1dcnn_word2vec.txt'\n",
    "f = open(word2vec_file_path, 'w')\n",
    "f.write('{} {}\\n'.format(vocab_size-4, word_vector_dim))  # 몇개의 벡터를 얼마 사이즈로 기재할지 타이틀을 씁니다.\n",
    "\n",
    "# 단어 개수(에서 특수문자 4개는 제외하고)만큼의 워드 벡터를 파일에 기록합니다. \n",
    "vectors = model.get_weights()[0]\n",
    "for i in range(4,vocab_size):\n",
    "    f.write('{} {}\\n'.format(index_to_word[i], ' '.join(map(str, list(vectors[i, :])))))\n",
    "f.close()"
   ]
  },
  {
   "cell_type": "code",
   "execution_count": 42,
   "id": "c863e16e",
   "metadata": {},
   "outputs": [],
   "source": [
    "word_vectors = Word2VecKeyedVectors.load_word2vec_format(word2vec_file_path, binary=False)"
   ]
  },
  {
   "cell_type": "code",
   "execution_count": 43,
   "id": "5eb715f4",
   "metadata": {},
   "outputs": [
    {
     "data": {
      "text/plain": [
       "[('도망치', 0.445420503616333),\n",
       " ('떼', 0.4211033582687378),\n",
       " ('심해', 0.42067816853523254),\n",
       " ('조명', 0.41841912269592285),\n",
       " ('똘똘', 0.4076351225376129),\n",
       " ('도전', 0.40762367844581604),\n",
       " ('화법', 0.4022905230522156),\n",
       " ('돼지', 0.39974963665008545),\n",
       " ('94', 0.39871636033058167),\n",
       " ('무시무시', 0.39830532670021057)]"
      ]
     },
     "execution_count": 43,
     "metadata": {},
     "output_type": "execute_result"
    }
   ],
   "source": [
    "word_vectors.similar_by_word(\"기술\")"
   ]
  },
  {
   "cell_type": "markdown",
   "id": "22c5b48a",
   "metadata": {},
   "source": [
    "# 한국어 Word2Vec"
   ]
  },
  {
   "cell_type": "code",
   "execution_count": 44,
   "id": "77f79c3a",
   "metadata": {},
   "outputs": [],
   "source": [
    "vocab_size = 10000    # 어휘 사전의 크기입니다(10,000개의 단어)\n",
    "word_vector_dim = 200  # 워드 벡터의 차원 수 (변경 가능한 하이퍼파라미터)"
   ]
  },
  {
   "cell_type": "code",
   "execution_count": 45,
   "id": "9e259fda",
   "metadata": {},
   "outputs": [
    {
     "name": "stderr",
     "output_type": "stream",
     "text": [
      "/tmp/ipykernel_1719/1899424056.py:5: DeprecationWarning: Call to deprecated `__contains__` (Method will be removed in 4.0.0, use self.wv.__contains__() instead).\n",
      "  if index_to_word[i] in ko_word2vec:\n",
      "/tmp/ipykernel_1719/1899424056.py:6: DeprecationWarning: Call to deprecated `__getitem__` (Method will be removed in 4.0.0, use self.wv.__getitem__() instead).\n",
      "  embedding_matrix[i] = ko_word2vec[index_to_word[i]]\n"
     ]
    }
   ],
   "source": [
    "embedding_matrix = np.random.rand(vocab_size, word_vector_dim)\n",
    "\n",
    "# embedding_matrix에 Word2Vec 워드 벡터를 단어 하나씩마다 차례차례 카피한다.\n",
    "for i in range(4,vocab_size):\n",
    "    if index_to_word[i] in ko_word2vec:\n",
    "        embedding_matrix[i] = ko_word2vec[index_to_word[i]]"
   ]
  },
  {
   "cell_type": "code",
   "execution_count": 46,
   "id": "086795f2",
   "metadata": {},
   "outputs": [
    {
     "name": "stdout",
     "output_type": "stream",
     "text": [
      "Model: \"sequential_3\"\n",
      "_________________________________________________________________\n",
      "Layer (type)                 Output Shape              Param #   \n",
      "=================================================================\n",
      "embedding_3 (Embedding)      (None, 48, 200)           2000000   \n",
      "_________________________________________________________________\n",
      "conv1d_2 (Conv1D)            (None, 42, 64)            89664     \n",
      "_________________________________________________________________\n",
      "max_pooling1d_1 (MaxPooling1 (None, 8, 64)             0         \n",
      "_________________________________________________________________\n",
      "conv1d_3 (Conv1D)            (None, 2, 64)             28736     \n",
      "_________________________________________________________________\n",
      "global_max_pooling1d_1 (Glob (None, 64)                0         \n",
      "_________________________________________________________________\n",
      "dense_4 (Dense)              (None, 128)               8320      \n",
      "_________________________________________________________________\n",
      "dense_5 (Dense)              (None, 1)                 129       \n",
      "=================================================================\n",
      "Total params: 2,126,849\n",
      "Trainable params: 2,126,849\n",
      "Non-trainable params: 0\n",
      "_________________________________________________________________\n"
     ]
    }
   ],
   "source": [
    "# 모델 구성\n",
    "model = tf.keras.Sequential()\n",
    "model.add(tf.keras.layers.Embedding(vocab_size, \n",
    "                                 word_vector_dim, \n",
    "                                 embeddings_initializer=Constant(embedding_matrix),  # 카피한 임베딩을 여기서 활용\n",
    "                                 input_length=maxlen, \n",
    "                                 trainable=True))   # trainable을 True로 주면 Fine-tuning\n",
    "model.add(tf.keras.layers.Conv1D(64, 7, activation='relu'))\n",
    "model.add(tf.keras.layers.MaxPooling1D(5))\n",
    "model.add(tf.keras.layers.Conv1D(64, 7, activation='relu'))\n",
    "model.add(tf.keras.layers.GlobalMaxPooling1D())\n",
    "model.add(tf.keras.layers.Dense(128, activation='relu'))\n",
    "model.add(tf.keras.layers.Dense(1, activation='sigmoid'))  # 최종 출력은 긍정/부정을 나타내는 1dim 입니다.\n",
    "\n",
    "model.summary()"
   ]
  },
  {
   "cell_type": "code",
   "execution_count": 47,
   "id": "678d14be",
   "metadata": {},
   "outputs": [],
   "source": [
    "model.compile(optimizer='adam', loss='binary_crossentropy', metrics=['accuracy'])\n",
    "\n",
    "early = EarlyStopping(monitor='val_loss', mode='min', verbose=1, patience=5)\n",
    "check = ModelCheckpoint('best_model_1dcnn_ko.h5', monitor='val_acc', mode='max', verbose=1, save_bast_only=True)"
   ]
  },
  {
   "cell_type": "code",
   "execution_count": 48,
   "id": "1523340c",
   "metadata": {},
   "outputs": [
    {
     "name": "stdout",
     "output_type": "stream",
     "text": [
      "Epoch 1/20\n",
      "376/376 [==============================] - 4s 8ms/step - loss: 0.5042 - accuracy: 0.7453 - val_loss: 0.4054 - val_accuracy: 0.8164\n",
      "\n",
      "Epoch 00001: saving model to best_model_1dcnn_ko.h5\n",
      "Epoch 2/20\n",
      "376/376 [==============================] - 3s 7ms/step - loss: 0.3554 - accuracy: 0.8448 - val_loss: 0.3634 - val_accuracy: 0.8394\n",
      "\n",
      "Epoch 00002: saving model to best_model_1dcnn_ko.h5\n",
      "Epoch 3/20\n",
      "376/376 [==============================] - 3s 8ms/step - loss: 0.2916 - accuracy: 0.8768 - val_loss: 0.3586 - val_accuracy: 0.8424\n",
      "\n",
      "Epoch 00003: saving model to best_model_1dcnn_ko.h5\n",
      "Epoch 4/20\n",
      "376/376 [==============================] - 3s 8ms/step - loss: 0.2447 - accuracy: 0.8999 - val_loss: 0.3707 - val_accuracy: 0.8453\n",
      "\n",
      "Epoch 00004: saving model to best_model_1dcnn_ko.h5\n",
      "Epoch 5/20\n",
      "376/376 [==============================] - 3s 8ms/step - loss: 0.2017 - accuracy: 0.9183 - val_loss: 0.4115 - val_accuracy: 0.8387\n",
      "\n",
      "Epoch 00005: saving model to best_model_1dcnn_ko.h5\n",
      "Epoch 6/20\n",
      "376/376 [==============================] - 3s 8ms/step - loss: 0.1691 - accuracy: 0.9344 - val_loss: 0.4272 - val_accuracy: 0.8402\n",
      "\n",
      "Epoch 00006: saving model to best_model_1dcnn_ko.h5\n",
      "Epoch 7/20\n",
      "376/376 [==============================] - 3s 8ms/step - loss: 0.1327 - accuracy: 0.9496 - val_loss: 0.4798 - val_accuracy: 0.8360\n",
      "\n",
      "Epoch 00007: saving model to best_model_1dcnn_ko.h5\n",
      "Epoch 8/20\n",
      "376/376 [==============================] - 3s 8ms/step - loss: 0.1121 - accuracy: 0.9577 - val_loss: 0.5800 - val_accuracy: 0.8365\n",
      "\n",
      "Epoch 00008: saving model to best_model_1dcnn_ko.h5\n",
      "Epoch 00008: early stopping\n"
     ]
    }
   ],
   "source": [
    "lstm_history = model.fit(partial_x_train,\n",
    "                    partial_y_train,\n",
    "                    epochs=20,\n",
    "                    callbacks=[early, check],\n",
    "                    batch_size=256,\n",
    "                    validation_data=(x_val, y_val),\n",
    "                    verbose=1)"
   ]
  },
  {
   "cell_type": "code",
   "execution_count": 49,
   "id": "84485749",
   "metadata": {},
   "outputs": [
    {
     "name": "stdout",
     "output_type": "stream",
     "text": [
      "1537/1537 - 3s - loss: 0.6051 - accuracy: 0.8309\n",
      "[0.6051028966903687, 0.8308684229850769]\n"
     ]
    }
   ],
   "source": [
    "loaded_model = load_model('best_model_1dcnn_ko.h5')\n",
    "results = loaded_model.evaluate(x_test,  y_test, verbose=2)\n",
    "\n",
    "print(results)"
   ]
  },
  {
   "cell_type": "markdown",
   "id": "0d04d1bd",
   "metadata": {},
   "source": [
    "## GlobalMaxPooling1D"
   ]
  },
  {
   "cell_type": "code",
   "execution_count": 50,
   "id": "39c51425",
   "metadata": {},
   "outputs": [
    {
     "name": "stdout",
     "output_type": "stream",
     "text": [
      "Model: \"sequential_4\"\n",
      "_________________________________________________________________\n",
      "Layer (type)                 Output Shape              Param #   \n",
      "=================================================================\n",
      "embedding_4 (Embedding)      (None, None, 64)          640000    \n",
      "_________________________________________________________________\n",
      "global_max_pooling1d_2 (Glob (None, 64)                0         \n",
      "_________________________________________________________________\n",
      "dense_6 (Dense)              (None, 8)                 520       \n",
      "_________________________________________________________________\n",
      "dense_7 (Dense)              (None, 1)                 9         \n",
      "=================================================================\n",
      "Total params: 640,529\n",
      "Trainable params: 640,529\n",
      "Non-trainable params: 0\n",
      "_________________________________________________________________\n"
     ]
    }
   ],
   "source": [
    "vocab_size = 10000\n",
    "word_vector_dim = 64\n",
    "\n",
    "\n",
    "model = tf.keras.Sequential()\n",
    "model.add(tf.keras.layers.Embedding(vocab_size, word_vector_dim, input_shape=(None,)))\n",
    "model.add(tf.keras.layers.GlobalMaxPooling1D())\n",
    "model.add(tf.keras.layers.Dense(8, activation='relu'))\n",
    "model.add(tf.keras.layers.Dense(1, activation='sigmoid'))  # 최종 출력은 긍정/부정을 나타내는 1dim 입니다.\n",
    "\n",
    "model.summary()"
   ]
  },
  {
   "cell_type": "code",
   "execution_count": 51,
   "id": "e5c1986f",
   "metadata": {},
   "outputs": [],
   "source": [
    "model.compile(optimizer='adam', loss='binary_crossentropy', metrics=['accuracy'])"
   ]
  },
  {
   "cell_type": "code",
   "execution_count": 52,
   "id": "bfbcefef",
   "metadata": {},
   "outputs": [],
   "source": [
    "early = EarlyStopping(monitor='val_loss', mode='min', verbose=1, patience=5)\n",
    "check = ModelCheckpoint('best_model_gmp.h5', monitor='val_acc', mode='max', verbose=1, save_bast_only=True)"
   ]
  },
  {
   "cell_type": "code",
   "execution_count": 53,
   "id": "14296fb7",
   "metadata": {},
   "outputs": [
    {
     "name": "stdout",
     "output_type": "stream",
     "text": [
      "Epoch 1/20\n",
      "376/376 [==============================] - 2s 4ms/step - loss: 0.4677 - accuracy: 0.8053 - val_loss: 0.3537 - val_accuracy: 0.8452\n",
      "\n",
      "Epoch 00001: saving model to best_model_gmp.h5\n",
      "Epoch 2/20\n",
      "376/376 [==============================] - 1s 4ms/step - loss: 0.3188 - accuracy: 0.8648 - val_loss: 0.3406 - val_accuracy: 0.8525\n",
      "\n",
      "Epoch 00002: saving model to best_model_gmp.h5\n",
      "Epoch 3/20\n",
      "376/376 [==============================] - 1s 4ms/step - loss: 0.2702 - accuracy: 0.8893 - val_loss: 0.3467 - val_accuracy: 0.8519\n",
      "\n",
      "Epoch 00003: saving model to best_model_gmp.h5\n",
      "Epoch 4/20\n",
      "376/376 [==============================] - 1s 4ms/step - loss: 0.2315 - accuracy: 0.9087 - val_loss: 0.3635 - val_accuracy: 0.8493\n",
      "\n",
      "Epoch 00004: saving model to best_model_gmp.h5\n",
      "Epoch 5/20\n",
      "376/376 [==============================] - 1s 4ms/step - loss: 0.1963 - accuracy: 0.9256 - val_loss: 0.3871 - val_accuracy: 0.8463\n",
      "\n",
      "Epoch 00005: saving model to best_model_gmp.h5\n",
      "Epoch 6/20\n",
      "376/376 [==============================] - 1s 4ms/step - loss: 0.1630 - accuracy: 0.9406 - val_loss: 0.4176 - val_accuracy: 0.8442\n",
      "\n",
      "Epoch 00006: saving model to best_model_gmp.h5\n",
      "Epoch 7/20\n",
      "376/376 [==============================] - 1s 4ms/step - loss: 0.1327 - accuracy: 0.9547 - val_loss: 0.4537 - val_accuracy: 0.8403\n",
      "\n",
      "Epoch 00007: saving model to best_model_gmp.h5\n",
      "Epoch 00007: early stopping\n"
     ]
    }
   ],
   "source": [
    "lstm_history = model.fit(partial_x_train,\n",
    "                    partial_y_train,\n",
    "                    epochs=20,\n",
    "                    callbacks=[early, check],\n",
    "                    batch_size=256,\n",
    "                    validation_data=(x_val, y_val),\n",
    "                    verbose=1)"
   ]
  },
  {
   "cell_type": "code",
   "execution_count": 54,
   "id": "5af8742e",
   "metadata": {},
   "outputs": [
    {
     "name": "stdout",
     "output_type": "stream",
     "text": [
      "1537/1537 - 2s - loss: 0.4578 - accuracy: 0.8396\n",
      "[0.45782914757728577, 0.8395955562591553]\n"
     ]
    }
   ],
   "source": [
    "loaded_model = load_model('best_model_gmp.h5')\n",
    "results = loaded_model.evaluate(x_test,  y_test, verbose=2)\n",
    "\n",
    "print(results)"
   ]
  },
  {
   "cell_type": "code",
   "execution_count": 55,
   "id": "6e24dedb",
   "metadata": {},
   "outputs": [
    {
     "data": {
      "image/png": "[encoded data removed]",
      "text/plain": [
       "<Figure size 432x288 with 1 Axes>"
      ]
     },
     "metadata": {
      "needs_background": "light"
     },
     "output_type": "display_data"
    }
   ],
   "source": [
    "lstm_history_dict = lstm_history.history\n",
    "\n",
    "acc = lstm_history_dict['accuracy']\n",
    "val_acc = lstm_history_dict['val_accuracy']\n",
    "loss = lstm_history_dict['loss']\n",
    "val_loss = lstm_history_dict['val_loss']\n",
    "\n",
    "epochs = range(1, len(acc) + 1)\n",
    "\n",
    "# \"bo\"는 \"파란색 점\"입니다\n",
    "plt.plot(epochs, loss, 'bo', label='Training loss')\n",
    "# b는 \"파란 실선\"입니다\n",
    "plt.plot(epochs, val_loss, 'b', label='Validation loss')\n",
    "plt.title('Training and validation loss')\n",
    "plt.xlabel('Epochs')\n",
    "plt.ylabel('Loss')\n",
    "plt.legend()\n",
    "\n",
    "plt.show()"
   ]
  },
  {
   "cell_type": "code",
   "execution_count": 56,
   "id": "3fe55bf1",
   "metadata": {},
   "outputs": [
    {
     "data": {
      "image/png": "[encoded data removed]",
      "text/plain": [
       "<Figure size 432x288 with 1 Axes>"
      ]
     },
     "metadata": {
      "needs_background": "light"
     },
     "output_type": "display_data"
    }
   ],
   "source": [
    "plt.clf()   # 그림을 초기화합니다\n",
    "\n",
    "plt.plot(epochs, acc, 'bo', label='Training acc')\n",
    "plt.plot(epochs, val_acc, 'b', label='Validation acc')\n",
    "plt.title('Training and validation accuracy')\n",
    "plt.xlabel('Epochs')\n",
    "plt.ylabel('Accuracy')\n",
    "plt.legend()\n",
    "\n",
    "plt.show()"
   ]
  },
  {
   "cell_type": "code",
   "execution_count": 57,
   "id": "c5fbccef",
   "metadata": {},
   "outputs": [
    {
     "name": "stdout",
     "output_type": "stream",
     "text": [
      "(10000, 64)\n"
     ]
    }
   ],
   "source": [
    "embedding_layer = model.layers[0]\n",
    "weights = embedding_layer.get_weights()[0]\n",
    "print(weights.shape)    # shape: (vocab_size, embedding_dim)"
   ]
  },
  {
   "cell_type": "code",
   "execution_count": 58,
   "id": "72feca6f",
   "metadata": {},
   "outputs": [],
   "source": [
    "# 학습한 Embedding 파라미터를 파일에 써서 저장합니다. \n",
    "word2vec_file_path = os.getenv('HOME')+'/aiffel/sentiment_classification/data/gmp_word2vec.txt'\n",
    "f = open(word2vec_file_path, 'w')\n",
    "f.write('{} {}\\n'.format(vocab_size-4, word_vector_dim))  # 몇개의 벡터를 얼마 사이즈로 기재할지 타이틀을 씁니다.\n",
    "\n",
    "# 단어 개수(에서 특수문자 4개는 제외하고)만큼의 워드 벡터를 파일에 기록합니다. \n",
    "vectors = model.get_weights()[0]\n",
    "for i in range(4,vocab_size):\n",
    "    f.write('{} {}\\n'.format(index_to_word[i], ' '.join(map(str, list(vectors[i, :])))))\n",
    "f.close()"
   ]
  },
  {
   "cell_type": "code",
   "execution_count": 59,
   "id": "47353fbc",
   "metadata": {},
   "outputs": [],
   "source": [
    "word_vectors = Word2VecKeyedVectors.load_word2vec_format(word2vec_file_path, binary=False)"
   ]
  },
  {
   "cell_type": "code",
   "execution_count": 60,
   "id": "0839c4a3",
   "metadata": {},
   "outputs": [
    {
     "data": {
      "text/plain": [
       "[('장르', 0.6409627199172974),\n",
       " ('X', 0.6187093257904053),\n",
       " ('상황', 0.5830190181732178),\n",
       " ('부부', 0.5771997570991516),\n",
       " ('2', 0.5746914148330688),\n",
       " ('아까운', 0.5669375658035278),\n",
       " ('짓', 0.5664169788360596),\n",
       " ('의지', 0.5595587491989136),\n",
       " ('늘어지', 0.5544605255126953),\n",
       " ('한계', 0.5535479187965393)]"
      ]
     },
     "execution_count": 60,
     "metadata": {},
     "output_type": "execute_result"
    }
   ],
   "source": [
    "word_vectors.similar_by_word(\"기술\")"
   ]
  },
  {
   "cell_type": "markdown",
   "id": "0d2fde24",
   "metadata": {},
   "source": [
    "## 한국어 Word2Vec"
   ]
  },
  {
   "cell_type": "code",
   "execution_count": 61,
   "id": "e6d8dfcf",
   "metadata": {},
   "outputs": [],
   "source": [
    "vocab_size = 10000    # 어휘 사전의 크기입니다(10,000개의 단어)\n",
    "word_vector_dim = 200  # 워드 벡터의 차원 수 (변경 가능한 하이퍼파라미터)"
   ]
  },
  {
   "cell_type": "code",
   "execution_count": 62,
   "id": "0ee5ad9d",
   "metadata": {},
   "outputs": [
    {
     "name": "stderr",
     "output_type": "stream",
     "text": [
      "/tmp/ipykernel_1719/1899424056.py:5: DeprecationWarning: Call to deprecated `__contains__` (Method will be removed in 4.0.0, use self.wv.__contains__() instead).\n",
      "  if index_to_word[i] in ko_word2vec:\n",
      "/tmp/ipykernel_1719/1899424056.py:6: DeprecationWarning: Call to deprecated `__getitem__` (Method will be removed in 4.0.0, use self.wv.__getitem__() instead).\n",
      "  embedding_matrix[i] = ko_word2vec[index_to_word[i]]\n"
     ]
    }
   ],
   "source": [
    "embedding_matrix = np.random.rand(vocab_size, word_vector_dim)\n",
    "\n",
    "# embedding_matrix에 Word2Vec 워드 벡터를 단어 하나씩마다 차례차례 카피한다.\n",
    "for i in range(4,vocab_size):\n",
    "    if index_to_word[i] in ko_word2vec:\n",
    "        embedding_matrix[i] = ko_word2vec[index_to_word[i]]"
   ]
  },
  {
   "cell_type": "code",
   "execution_count": 63,
   "id": "f70f321f",
   "metadata": {},
   "outputs": [
    {
     "name": "stdout",
     "output_type": "stream",
     "text": [
      "Model: \"sequential_5\"\n",
      "_________________________________________________________________\n",
      "Layer (type)                 Output Shape              Param #   \n",
      "=================================================================\n",
      "embedding_5 (Embedding)      (None, 48, 200)           2000000   \n",
      "_________________________________________________________________\n",
      "global_max_pooling1d_3 (Glob (None, 200)               0         \n",
      "_________________________________________________________________\n",
      "dense_8 (Dense)              (None, 8)                 1608      \n",
      "_________________________________________________________________\n",
      "dense_9 (Dense)              (None, 1)                 9         \n",
      "=================================================================\n",
      "Total params: 2,001,617\n",
      "Trainable params: 2,001,617\n",
      "Non-trainable params: 0\n",
      "_________________________________________________________________\n"
     ]
    }
   ],
   "source": [
    "# 모델 구성\n",
    "model = tf.keras.Sequential()\n",
    "model.add(tf.keras.layers.Embedding(vocab_size, \n",
    "                                 word_vector_dim, \n",
    "                                 embeddings_initializer=Constant(embedding_matrix),  # 카피한 임베딩을 여기서 활용\n",
    "                                 input_length=maxlen, \n",
    "                                 trainable=True))   # trainable을 True로 주면 Fine-tuning\n",
    "model.add(tf.keras.layers.GlobalMaxPooling1D())\n",
    "model.add(tf.keras.layers.Dense(8, activation='relu'))\n",
    "model.add(tf.keras.layers.Dense(1, activation='sigmoid'))  # 최종 출력은 긍정/부정을 나타내는 1dim 입니다.\n",
    "\n",
    "model.summary()"
   ]
  },
  {
   "cell_type": "code",
   "execution_count": 64,
   "id": "7fbe9501",
   "metadata": {},
   "outputs": [],
   "source": [
    "model.compile(optimizer='adam', loss='binary_crossentropy', metrics=['accuracy'])\n",
    "\n",
    "early = EarlyStopping(monitor='val_loss', mode='min', verbose=1, patience=5)\n",
    "check = ModelCheckpoint('best_model_gmp_ko.h5', monitor='val_acc', mode='max', verbose=1, save_bast_only=True)"
   ]
  },
  {
   "cell_type": "code",
   "execution_count": 65,
   "id": "ebe8af32",
   "metadata": {},
   "outputs": [
    {
     "name": "stdout",
     "output_type": "stream",
     "text": [
      "Epoch 1/20\n",
      "376/376 [==============================] - 2s 5ms/step - loss: 0.6582 - accuracy: 0.6096 - val_loss: 0.5785 - val_accuracy: 0.7003\n",
      "\n",
      "Epoch 00001: saving model to best_model_gmp_ko.h5\n",
      "Epoch 2/20\n",
      "376/376 [==============================] - 2s 5ms/step - loss: 0.5399 - accuracy: 0.7291 - val_loss: 0.5081 - val_accuracy: 0.7523\n",
      "\n",
      "Epoch 00002: saving model to best_model_gmp_ko.h5\n",
      "Epoch 3/20\n",
      "376/376 [==============================] - 2s 5ms/step - loss: 0.4794 - accuracy: 0.7722 - val_loss: 0.4683 - val_accuracy: 0.7789\n",
      "\n",
      "Epoch 00003: saving model to best_model_gmp_ko.h5\n",
      "Epoch 4/20\n",
      "376/376 [==============================] - 2s 5ms/step - loss: 0.4378 - accuracy: 0.7984 - val_loss: 0.4442 - val_accuracy: 0.7925\n",
      "\n",
      "Epoch 00004: saving model to best_model_gmp_ko.h5\n",
      "Epoch 5/20\n",
      "376/376 [==============================] - 2s 5ms/step - loss: 0.4067 - accuracy: 0.8157 - val_loss: 0.4293 - val_accuracy: 0.8005\n",
      "\n",
      "Epoch 00005: saving model to best_model_gmp_ko.h5\n",
      "Epoch 6/20\n",
      "376/376 [==============================] - 2s 5ms/step - loss: 0.3815 - accuracy: 0.8304 - val_loss: 0.4182 - val_accuracy: 0.8075\n",
      "\n",
      "Epoch 00006: saving model to best_model_gmp_ko.h5\n",
      "Epoch 7/20\n",
      "376/376 [==============================] - 2s 5ms/step - loss: 0.3593 - accuracy: 0.8427 - val_loss: 0.4113 - val_accuracy: 0.8149\n",
      "\n",
      "Epoch 00007: saving model to best_model_gmp_ko.h5\n",
      "Epoch 8/20\n",
      "376/376 [==============================] - 2s 5ms/step - loss: 0.3403 - accuracy: 0.8535 - val_loss: 0.4052 - val_accuracy: 0.8167\n",
      "\n",
      "Epoch 00008: saving model to best_model_gmp_ko.h5\n",
      "Epoch 9/20\n",
      "376/376 [==============================] - 2s 5ms/step - loss: 0.3235 - accuracy: 0.8621 - val_loss: 0.4006 - val_accuracy: 0.8211\n",
      "\n",
      "Epoch 00009: saving model to best_model_gmp_ko.h5\n",
      "Epoch 10/20\n",
      "376/376 [==============================] - 2s 5ms/step - loss: 0.3079 - accuracy: 0.8703 - val_loss: 0.3988 - val_accuracy: 0.8227\n",
      "\n",
      "Epoch 00010: saving model to best_model_gmp_ko.h5\n",
      "Epoch 11/20\n",
      "376/376 [==============================] - 2s 5ms/step - loss: 0.2929 - accuracy: 0.8783 - val_loss: 0.3998 - val_accuracy: 0.8248\n",
      "\n",
      "Epoch 00011: saving model to best_model_gmp_ko.h5\n",
      "Epoch 12/20\n",
      "376/376 [==============================] - 2s 5ms/step - loss: 0.2791 - accuracy: 0.8851 - val_loss: 0.4053 - val_accuracy: 0.8257\n",
      "\n",
      "Epoch 00012: saving model to best_model_gmp_ko.h5\n",
      "Epoch 13/20\n",
      "376/376 [==============================] - 2s 5ms/step - loss: 0.2646 - accuracy: 0.8926 - val_loss: 0.4049 - val_accuracy: 0.8255\n",
      "\n",
      "Epoch 00013: saving model to best_model_gmp_ko.h5\n",
      "Epoch 14/20\n",
      "376/376 [==============================] - 2s 5ms/step - loss: 0.2507 - accuracy: 0.8996 - val_loss: 0.4103 - val_accuracy: 0.8261\n",
      "\n",
      "Epoch 00014: saving model to best_model_gmp_ko.h5\n",
      "Epoch 15/20\n",
      "376/376 [==============================] - 2s 5ms/step - loss: 0.2386 - accuracy: 0.9052 - val_loss: 0.4155 - val_accuracy: 0.8247\n",
      "\n",
      "Epoch 00015: saving model to best_model_gmp_ko.h5\n",
      "Epoch 00015: early stopping\n"
     ]
    }
   ],
   "source": [
    "lstm_history = model.fit(partial_x_train,\n",
    "                    partial_y_train,\n",
    "                    epochs=20,\n",
    "                    callbacks=[early, check],\n",
    "                    batch_size=256,\n",
    "                    validation_data=(x_val, y_val),\n",
    "                    verbose=1)"
   ]
  },
  {
   "cell_type": "code",
   "execution_count": 66,
   "id": "a559bf86",
   "metadata": {},
   "outputs": [
    {
     "name": "stdout",
     "output_type": "stream",
     "text": [
      "1537/1537 - 2s - loss: 0.4240 - accuracy: 0.8197\n",
      "[0.4240417182445526, 0.8197408318519592]\n"
     ]
    }
   ],
   "source": [
    "loaded_model = load_model('best_model_gmp_ko.h5')\n",
    "results = loaded_model.evaluate(x_test,  y_test, verbose=2)\n",
    "\n",
    "print(results)"
   ]
  },
  {
   "cell_type": "markdown",
   "id": "3fda3f39",
   "metadata": {},
   "source": [
    "## 회고"
   ]
  },
  {
   "cell_type": "markdown",
   "id": "2a0fc034",
   "metadata": {},
   "source": [
    "1. 다양한 방법으로 Text Classification 태스크를 성공적으로 구현\n",
    " - **3가지 이상의 모델이 성공적으로 시도됨**  \n",
    " - LSTM, 1-D CNN, GlobalMaxPooling1D\n",
    "2. gensim을 활용하여 자체학습된 혹은 사전학습된 임베딩 레이어를 분석  \n",
    " - **gensim의 유사단어 찾기를 활용하여 자체학습한 임베딩과 사전학습 임베딩을 적절히 분석함**  \n",
    "3. 한국어 Word2Vec을 활용하여 가시적인 성능향상을 달성했다.  \n",
    " - **네이버 영화리뷰 데이터 감성분석 정확도를 85% 이상 달성**\n",
    " - LSTM + 한국어 Word2Vec -  accuracy : 0.85 "
   ]
  }
 ],
 "metadata": {
  "kernelspec": {
   "display_name": "Python 3 (ipykernel)",
   "language": "python",
   "name": "python3"
  },
  "language_info": {
   "codemirror_mode": {
    "name": "ipython",
    "version": 3
   },
   "file_extension": ".py",
   "mimetype": "text/x-python",
   "name": "python",
   "nbconvert_exporter": "python",
   "pygments_lexer": "ipython3",
   "version": "3.9.7"
  }
 },
 "nbformat": 4,
 "nbformat_minor": 5
}
