{
 "cells": [
  {
   "cell_type": "markdown",
   "id": "73991a65",
   "metadata": {},
   "source": [
    "## Imports"
   ]
  },
  {
   "cell_type": "code",
   "execution_count": null,
   "id": "c36ab847",
   "metadata": {},
   "outputs": [],
   "source": [
    "import time\n",
    "import numpy as np\n",
    "import pandas as pd\n",
    "import seaborn as sns\n",
    "import tensorflow as tf\n",
    "import matplotlib.pyplot as plt\n",
    "\n",
    "from tensorflow.keras.datasets import reuters\n",
    "from sklearn.feature_extraction.text import CountVectorizer\n",
    "from sklearn.feature_extraction.text import TfidfTransformer\n",
    "\n",
    "from collections import deque\n",
    "from sklearn.svm import LinearSVC\n",
    "from sklearn.metrics import f1_score\n",
    "from sklearn.metrics import accuracy_score\n",
    "from sklearn.naive_bayes import ComplementNB\n",
    "from sklearn.metrics import confusion_matrix\n",
    "from sklearn.ensemble import VotingClassifier\n",
    "from sklearn.naive_bayes import MultinomialNB\n",
    "from sklearn.tree import DecisionTreeClassifier\n",
    "from sklearn.metrics import classification_report\n",
    "from sklearn.ensemble import RandomForestClassifier\n",
    "from sklearn.ensemble import GradientBoostingClassifier\n",
    "from sklearn.linear_model import LogisticRegression, SGDClassifier"
   ]
  },
  {
   "cell_type": "markdown",
   "id": "2091619b",
   "metadata": {},
   "source": [
    "## Data load"
   ]
  },
  {
   "cell_type": "code",
   "execution_count": 64,
   "id": "06e406d6",
   "metadata": {},
   "outputs": [],
   "source": [
    "(x_train, y_train), (x_test, y_test) = reuters.load_data(num_words=10000, test_split=0.2)"
   ]
  },
  {
   "cell_type": "markdown",
   "id": "801a0735",
   "metadata": {},
   "source": [
    "## EDA"
   ]
  },
  {
   "cell_type": "code",
   "execution_count": 65,
   "id": "2f3ae358",
   "metadata": {},
   "outputs": [
    {
     "name": "stdout",
     "output_type": "stream",
     "text": [
      "훈련 샘플의 수: 8982\n",
      "테스트 샘플의 수: 2246\n"
     ]
    }
   ],
   "source": [
    "print('훈련 샘플의 수: {}'.format(len(x_train)))\n",
    "print('테스트 샘플의 수: {}'.format(len(x_test)))"
   ]
  },
  {
   "cell_type": "code",
   "execution_count": 66,
   "id": "bef24f10",
   "metadata": {},
   "outputs": [
    {
     "name": "stdout",
     "output_type": "stream",
     "text": [
      "클래스의 수 : 46\n"
     ]
    }
   ],
   "source": [
    "num_classes = max(y_train) + 1\n",
    "print('클래스의 수 : {}'.format(num_classes))"
   ]
  },
  {
   "cell_type": "code",
   "execution_count": 67,
   "id": "d3f83322",
   "metadata": {},
   "outputs": [
    {
     "name": "stdout",
     "output_type": "stream",
     "text": [
      "훈련용 뉴스의 최대 길이 :2376\n",
      "훈련용 뉴스의 평균 길이 :145.5398574927633\n"
     ]
    },
    {
     "data": {
      "image/png": "[encoded data removed]",
      "text/plain": [
       "<Figure size 432x288 with 1 Axes>"
      ]
     },
     "metadata": {
      "needs_background": "light"
     },
     "output_type": "display_data"
    }
   ],
   "source": [
    "print('훈련용 뉴스의 최대 길이 :{}'.format(max(len(l) for l in x_train)))\n",
    "print('훈련용 뉴스의 평균 길이 :{}'.format(sum(map(len, x_train))/len(x_train)))\n",
    "\n",
    "plt.hist([len(s) for s in x_train], bins=50)\n",
    "plt.xlabel('length of samples')\n",
    "plt.ylabel('number of samples')\n",
    "plt.show()"
   ]
  },
  {
   "cell_type": "code",
   "execution_count": 68,
   "id": "9f657554",
   "metadata": {},
   "outputs": [
    {
     "data": {
      "image/png": "[encoded data removed]",
      "text/plain": [
       "<Figure size 792x360 with 1 Axes>"
      ]
     },
     "metadata": {
      "needs_background": "light"
     },
     "output_type": "display_data"
    }
   ],
   "source": [
    "fig, axe = plt.subplots(ncols=1)\n",
    "fig.set_size_inches(11,5)\n",
    "sns.countplot(x=y_train)\n",
    "plt.show()"
   ]
  },
  {
   "cell_type": "markdown",
   "id": "ea32793a",
   "metadata": {},
   "source": [
    "## Decoding"
   ]
  },
  {
   "cell_type": "code",
   "execution_count": 54,
   "id": "ff469be9",
   "metadata": {},
   "outputs": [],
   "source": [
    "word_index = reuters.get_word_index(path=\"reuters_word_index.json\")"
   ]
  },
  {
   "cell_type": "code",
   "execution_count": 55,
   "id": "8333d5a8",
   "metadata": {},
   "outputs": [],
   "source": [
    "index_to_word = { index+3 : word for word, index in word_index.items() }"
   ]
  },
  {
   "cell_type": "code",
   "execution_count": 56,
   "id": "65c04715",
   "metadata": {},
   "outputs": [],
   "source": [
    "# index_to_word에 숫자 0은 <pad>, 숫자 1은 <sos>, 숫자 2는 <unk>를 넣어줍니다.\n",
    "for index, token in enumerate((\"<pad>\", \"<sos>\", \"<unk>\")):\n",
    "    index_to_word[index]=token"
   ]
  },
  {
   "cell_type": "code",
   "execution_count": 57,
   "id": "9036eb2a",
   "metadata": {},
   "outputs": [
    {
     "name": "stdout",
     "output_type": "stream",
     "text": [
      "<sos> <unk> <unk> said as a result of its december acquisition of space co it expects earnings per share in 1987 of 1 15 to 1 30 dlrs per share up from 70 cts in 1986 the company said pretax net should rise to nine to 10 mln dlrs from six mln dlrs in 1986 and rental operation revenues to 19 to 22 mln dlrs from 12 5 mln dlrs it said cash flow per share this year should be 2 50 to three dlrs reuter 3\n"
     ]
    }
   ],
   "source": [
    "print(' '.join([index_to_word[index] for index in x_train[0]]))"
   ]
  },
  {
   "cell_type": "code",
   "execution_count": 58,
   "id": "48fe50fc",
   "metadata": {},
   "outputs": [
    {
     "name": "stdout",
     "output_type": "stream",
     "text": [
      "the transaction is expected to be completed\n"
     ]
    }
   ],
   "source": [
    "print(' '.join([index_to_word[index] for index in [4, 587, 23, 133, 6, 30, 515]]))"
   ]
  },
  {
   "cell_type": "code",
   "execution_count": 59,
   "id": "a005782b",
   "metadata": {},
   "outputs": [
    {
     "name": "stdout",
     "output_type": "stream",
     "text": [
      "8982\n"
     ]
    }
   ],
   "source": [
    "decoded = []\n",
    "for i in range(len(x_train)):\n",
    "    t = ' '.join([index_to_word[index] for index in x_train[i]])\n",
    "    decoded.append(t)\n",
    "\n",
    "x_train = decoded\n",
    "print(len(x_train))"
   ]
  },
  {
   "cell_type": "code",
   "execution_count": 60,
   "id": "e40fb352",
   "metadata": {},
   "outputs": [
    {
     "name": "stdout",
     "output_type": "stream",
     "text": [
      "2246\n"
     ]
    }
   ],
   "source": [
    "decoded = []\n",
    "for i in range(len(x_test)):\n",
    "    t = ' '.join([index_to_word[index] for index in x_test[i]])\n",
    "    decoded.append(t)\n",
    "\n",
    "x_test = decoded\n",
    "print(len(x_test))"
   ]
  },
  {
   "cell_type": "code",
   "execution_count": 61,
   "id": "8be13c45",
   "metadata": {},
   "outputs": [
    {
     "data": {
      "text/plain": [
       "'<sos> <unk> <unk> said as a result of its december acquisition of space co it expects earnings per share in 1987 of 1 15 to 1 30 dlrs per share up from 70 cts in 1986 the company said pretax net should rise to nine to 10 mln dlrs from six mln dlrs in 1986 and rental operation revenues to 19 to 22 mln dlrs from 12 5 mln dlrs it said cash flow per share this year should be 2 50 to three dlrs reuter 3'"
      ]
     },
     "execution_count": 61,
     "metadata": {},
     "output_type": "execute_result"
    }
   ],
   "source": [
    "x_train[0]"
   ]
  },
  {
   "cell_type": "markdown",
   "id": "dc59fb64",
   "metadata": {},
   "source": [
    "## Embedding"
   ]
  },
  {
   "cell_type": "code",
   "execution_count": 131,
   "id": "292b3085",
   "metadata": {},
   "outputs": [
    {
     "name": "stdout",
     "output_type": "stream",
     "text": [
      "(8982, 9670)\n"
     ]
    }
   ],
   "source": [
    "dtmvector = CountVectorizer()\n",
    "x_train_dtm = dtmvector.fit_transform(x_train)\n",
    "print(x_train_dtm.shape)"
   ]
  },
  {
   "cell_type": "code",
   "execution_count": 132,
   "id": "f29da477",
   "metadata": {},
   "outputs": [
    {
     "name": "stdout",
     "output_type": "stream",
     "text": [
      "(8982, 9670)\n"
     ]
    }
   ],
   "source": [
    "tfidf_transformer = TfidfTransformer()\n",
    "tfidfv = tfidf_transformer.fit_transform(x_train_dtm)\n",
    "print(tfidfv.shape)"
   ]
  },
  {
   "cell_type": "markdown",
   "id": "8c967415",
   "metadata": {},
   "source": [
    "## Functionalization"
   ]
  },
  {
   "cell_type": "markdown",
   "id": "8ea763be",
   "metadata": {},
   "source": [
    "#### Functionalize the process of decoding and embedding the training andtest dataset after loading the Reuters news data according to the frequency of words"
   ]
  },
  {
   "cell_type": "code",
   "execution_count": 70,
   "id": "78f6df48",
   "metadata": {},
   "outputs": [],
   "source": [
    "word_index = reuters.get_word_index(path=\"reuters_word_index.json\")\n",
    "index_to_word = { index+3 : word for word, index in word_index.items() }\n",
    "for index, token in enumerate((\"<pad>\", \"<sos>\", \"<unk>\")):\n",
    "    index_to_word[index]=token\n",
    "    \n",
    "dtmvector = CountVectorizer()\n",
    "tfidf_transformer = TfidfTransformer()\n",
    "\n",
    "def reuters_embedding(num_words = None ,split = 0.2):\n",
    "    (x_train, y_train), (x_test, y_test) = reuters.load_data(num_words=num_words, test_split = split)\n",
    "    \n",
    "    \n",
    "    ## Decoding\n",
    "    train_decoded = []\n",
    "    test_decoded = []\n",
    "\n",
    "    for i in range(len(x_train)):\n",
    "        t = ' '.join([index_to_word[index] for index in x_train[i]])\n",
    "        train_decoded.append(t)\n",
    "    x_train = train_decoded\n",
    "    \n",
    "    \n",
    "    for i in range(len(x_test)):\n",
    "        t = ' '.join([index_to_word[index] for index in x_test[i]])\n",
    "        test_decoded.append(t)\n",
    "    x_test = test_decoded\n",
    "    \n",
    "    \n",
    "    ## Embedding\n",
    "    x_train_dtm = dtmvector.fit_transform(x_train)\n",
    "    tfidfv = tfidf_transformer.fit_transform(x_train_dtm)\n",
    "    \n",
    "    x_test_dtm = dtmvector.transform(x_test)\n",
    "    tfidfv_test = tfidf_transformer.transform(x_test_dtm)\n",
    "\n",
    "    return tfidfv, y_train, tfidfv_test, y_test"
   ]
  },
  {
   "cell_type": "markdown",
   "id": "30389e36",
   "metadata": {},
   "source": [
    "#### Functionalize the process of returning accuracy after learning and training with 8 machine learning models\n",
    "Use weighted F1-score due to unbalanced distribution of classes"
   ]
  },
  {
   "cell_type": "code",
   "execution_count": 71,
   "id": "8187313f",
   "metadata": {},
   "outputs": [],
   "source": [
    "def evaluated_model(y_test, predicted):\n",
    "    acc = round(accuracy_score(y_test, predicted), 2)\n",
    "    f1 = round(f1_score(y_test, predicted, average='weighted'), 2)\n",
    "    \n",
    "    return acc, f1"
   ]
  },
  {
   "cell_type": "code",
   "execution_count": 72,
   "id": "7f8c41fd",
   "metadata": {},
   "outputs": [],
   "source": [
    "def ml_model(tfidfv, y_train, tfidfv_test, y_test):\n",
    "    \n",
    "    start = time.time()\n",
    "    acc = []\n",
    "    f1 = []\n",
    "    \n",
    "    \n",
    "    # 1. Multinomial Naive Bayes Classifier\n",
    "    model = MultinomialNB()\n",
    "    model.fit(tfidfv, y_train)\n",
    "\n",
    "    predicted = model.predict(tfidfv_test)\n",
    "    nb_acc, nb_f1 = evaluated_model(y_test, predicted)\n",
    "    acc.append(nb_acc)\n",
    "    f1.append(nb_f1)\n",
    "    print(f\"{model.__class__.__name__}의 정확도 : {nb_acc}, \\\n",
    "          F1 score : {nb_f1}\")\n",
    "\n",
    "\n",
    "    # 2. Complement Naive Bayes Classifier\n",
    "    cb = ComplementNB()\n",
    "    cb.fit(tfidfv, y_train)\n",
    "\n",
    "    predicted = cb.predict(tfidfv_test)\n",
    "    cb_acc, cb_f1 = evaluated_model(y_test, predicted)\n",
    "    acc.append(cb_acc)\n",
    "    f1.append(cb_f1)\n",
    "    print(f\"{cb.__class__.__name__}의 정확도 : {cb_acc}, \\\n",
    "          F1 score : {cb_f1}\")\n",
    "\n",
    "\n",
    "    # 3. Logistic Regression\n",
    "    lr = LogisticRegression(C=10000, penalty='l2')\n",
    "    lr.fit(tfidfv, y_train)\n",
    "\n",
    "    predicted = lr.predict(tfidfv_test)\n",
    "    lr_acc, lr_f1 = evaluated_model(y_test, predicted)\n",
    "    acc.append(lr_acc)\n",
    "    f1.append(lr_f1)\n",
    "    print(f\"{lr.__class__.__name__}의 정확도 : {lr_acc}, \\\n",
    "          F1 score : {lr_f1}\")\n",
    "\n",
    "\n",
    "    # 4. Linear Support Vector Machine\n",
    "    lsvc = LinearSVC(C=1000, penalty='l1', max_iter=500, dual=False)\n",
    "    lsvc.fit(tfidfv, y_train)\n",
    "\n",
    "    predicted = lsvc.predict(tfidfv_test)\n",
    "    lsvc_acc, lsvc_f1 = evaluated_model(y_test, predicted)\n",
    "    acc.append(lsvc_acc)\n",
    "    f1.append(lsvc_f1)\n",
    "    print(f\"{lsvc.__class__.__name__}의 정확도 : {lsvc_acc}, \\\n",
    "          F1 score : {lsvc_f1}\")\n",
    "\n",
    "\n",
    "    # 5. Decision Tree\n",
    "    tree = DecisionTreeClassifier(max_depth=10, random_state=0)\n",
    "    tree.fit(tfidfv, y_train)\n",
    "\n",
    "    predicted = tree.predict(tfidfv_test)\n",
    "    tree_acc, tree_f1 = evaluated_model(y_test, predicted)\n",
    "    acc.append(tree_acc)\n",
    "    f1.append(tree_f1)\n",
    "    print(f\"{tree.__class__.__name__}의 정확도 : {tree_acc}, \\\n",
    "          F1 score : {tree_f1}\")\n",
    "\n",
    "\n",
    "    # 6. Random Forest\n",
    "    forest = RandomForestClassifier(n_estimators=5, random_state=0)\n",
    "    forest.fit(tfidfv, y_train)\n",
    "\n",
    "    predicted = forest.predict(tfidfv_test)\n",
    "    forest_acc, forest_f1 = evaluated_model(y_test, predicted)\n",
    "    acc.append(forest_acc)\n",
    "    f1.append(forest_f1)\n",
    "    print(f\"{forest.__class__.__name__}의 정확도 : {forest_acc}, \\\n",
    "          F1 score : {forest_f1}\")\n",
    "\n",
    "\n",
    "    # 7. GradientBoostingClassifier\n",
    "    grbt = GradientBoostingClassifier(random_state=0) # verbose=3\n",
    "    grbt.fit(tfidfv, y_train)\n",
    "\n",
    "    predicted = grbt.predict(tfidfv_test)\n",
    "    grbt_acc, grbt_f1 = evaluated_model(y_test, predicted)\n",
    "    acc.append(grbt_acc)\n",
    "    f1.append(grbt_f1)\n",
    "    print(f\"{grbt.__class__.__name__}의 정확도 : {grbt_acc}, \\\n",
    "          F1 score : {grbt_f1}\")\n",
    "\n",
    "\n",
    "    # 8. Voting\n",
    "    voting_classifier = VotingClassifier(estimators=[\n",
    "             ('lr', LogisticRegression(C=10000, penalty='l2')),\n",
    "            ('cb', ComplementNB()),\n",
    "            ('grbt', GradientBoostingClassifier(random_state=0))\n",
    "    ], voting='soft', n_jobs=-1)\n",
    "    voting_classifier.fit(tfidfv, y_train)\n",
    "\n",
    "    predicted = voting_classifier.predict(tfidfv_test)\n",
    "    voting_classifier_acc, voting_classifier_f1 = evaluated_model(y_test, predicted)\n",
    "    acc.append(voting_classifier_acc)\n",
    "    f1.append(voting_classifier_f1)\n",
    "    print(f\"{voting_classifier.__class__.__name__}의 정확도 : {voting_classifier_acc}, \\\n",
    "          F1 score : {voting_classifier_f1}\")\n",
    "\n",
    "    print(time.time()-start)\n",
    "    \n",
    "    return acc, f1"
   ]
  },
  {
   "cell_type": "markdown",
   "id": "2951a104",
   "metadata": {},
   "source": [
    "## Use all words"
   ]
  },
  {
   "cell_type": "code",
   "execution_count": 73,
   "id": "bdbe56c8",
   "metadata": {},
   "outputs": [],
   "source": [
    "whole_tfidfv, whole_y_train, whole_tfidfv_test, whole_y_test = reuters_embedding(num_words = None, split = 0.2)"
   ]
  },
  {
   "cell_type": "code",
   "execution_count": 74,
   "id": "587deb18",
   "metadata": {},
   "outputs": [
    {
     "name": "stdout",
     "output_type": "stream",
     "text": [
      "MultinomialNB의 정확도 : 0.6,           F1 score : 0.5\n",
      "ComplementNB의 정확도 : 0.76,           F1 score : 0.73\n"
     ]
    },
    {
     "name": "stderr",
     "output_type": "stream",
     "text": [
      "/opt/conda/lib/python3.9/site-packages/sklearn/linear_model/_logistic.py:814: ConvergenceWarning: lbfgs failed to converge (status=1):\n",
      "STOP: TOTAL NO. of ITERATIONS REACHED LIMIT.\n",
      "\n",
      "Increase the number of iterations (max_iter) or scale the data as shown in:\n",
      "    https://scikit-learn.org/stable/modules/preprocessing.html\n",
      "Please also refer to the documentation for alternative solver options:\n",
      "    https://scikit-learn.org/stable/modules/linear_model.html#logistic-regression\n",
      "  n_iter_i = _check_optimize_result(\n"
     ]
    },
    {
     "name": "stdout",
     "output_type": "stream",
     "text": [
      "LogisticRegression의 정확도 : 0.81,           F1 score : 0.81\n"
     ]
    },
    {
     "name": "stderr",
     "output_type": "stream",
     "text": [
      "/opt/conda/lib/python3.9/site-packages/sklearn/svm/_base.py:1199: ConvergenceWarning: Liblinear failed to converge, increase the number of iterations.\n",
      "  warnings.warn(\n"
     ]
    },
    {
     "name": "stdout",
     "output_type": "stream",
     "text": [
      "LinearSVC의 정확도 : 0.79,           F1 score : 0.78\n",
      "DecisionTreeClassifier의 정확도 : 0.62,           F1 score : 0.58\n",
      "RandomForestClassifier의 정확도 : 0.65,           F1 score : 0.62\n",
      "GradientBoostingClassifier의 정확도 : 0.77,           F1 score : 0.76\n"
     ]
    },
    {
     "name": "stderr",
     "output_type": "stream",
     "text": [
      "/opt/conda/lib/python3.9/site-packages/sklearn/linear_model/_logistic.py:814: ConvergenceWarning: lbfgs failed to converge (status=1):\n",
      "STOP: TOTAL NO. of ITERATIONS REACHED LIMIT.\n",
      "\n",
      "Increase the number of iterations (max_iter) or scale the data as shown in:\n",
      "    https://scikit-learn.org/stable/modules/preprocessing.html\n",
      "Please also refer to the documentation for alternative solver options:\n",
      "    https://scikit-learn.org/stable/modules/linear_model.html#logistic-regression\n",
      "  n_iter_i = _check_optimize_result(\n"
     ]
    },
    {
     "name": "stdout",
     "output_type": "stream",
     "text": [
      "VotingClassifier의 정확도 : 0.82,           F1 score : 0.81\n",
      "2509.267175912857\n"
     ]
    }
   ],
   "source": [
    "whole_acc, whole_f1 = ml_model(whole_tfidfv, whole_y_train, whole_tfidfv_test, whole_y_test)"
   ]
  },
  {
   "cell_type": "markdown",
   "id": "90a54164",
   "metadata": {},
   "source": [
    "## Only use the top 5,000 words in frequency"
   ]
  },
  {
   "cell_type": "code",
   "execution_count": 75,
   "id": "4b457be8",
   "metadata": {},
   "outputs": [],
   "source": [
    "ft_tfidfv, ft_y_train, ft_tfidfv_test, ft_y_test = reuters_embedding(num_words = 5000, split = 0.2)"
   ]
  },
  {
   "cell_type": "code",
   "execution_count": 76,
   "id": "8a10827c",
   "metadata": {},
   "outputs": [
    {
     "name": "stdout",
     "output_type": "stream",
     "text": [
      "MultinomialNB의 정확도 : 0.67,           F1 score : 0.6\n",
      "ComplementNB의 정확도 : 0.77,           F1 score : 0.75\n"
     ]
    },
    {
     "name": "stderr",
     "output_type": "stream",
     "text": [
      "/opt/conda/lib/python3.9/site-packages/sklearn/linear_model/_logistic.py:814: ConvergenceWarning: lbfgs failed to converge (status=1):\n",
      "STOP: TOTAL NO. of ITERATIONS REACHED LIMIT.\n",
      "\n",
      "Increase the number of iterations (max_iter) or scale the data as shown in:\n",
      "    https://scikit-learn.org/stable/modules/preprocessing.html\n",
      "Please also refer to the documentation for alternative solver options:\n",
      "    https://scikit-learn.org/stable/modules/linear_model.html#logistic-regression\n",
      "  n_iter_i = _check_optimize_result(\n"
     ]
    },
    {
     "name": "stdout",
     "output_type": "stream",
     "text": [
      "LogisticRegression의 정확도 : 0.81,           F1 score : 0.8\n"
     ]
    },
    {
     "name": "stderr",
     "output_type": "stream",
     "text": [
      "/opt/conda/lib/python3.9/site-packages/sklearn/svm/_base.py:1199: ConvergenceWarning: Liblinear failed to converge, increase the number of iterations.\n",
      "  warnings.warn(\n"
     ]
    },
    {
     "name": "stdout",
     "output_type": "stream",
     "text": [
      "LinearSVC의 정확도 : 0.77,           F1 score : 0.77\n",
      "DecisionTreeClassifier의 정확도 : 0.62,           F1 score : 0.57\n",
      "RandomForestClassifier의 정확도 : 0.7,           F1 score : 0.68\n",
      "GradientBoostingClassifier의 정확도 : 0.77,           F1 score : 0.77\n"
     ]
    },
    {
     "name": "stderr",
     "output_type": "stream",
     "text": [
      "/opt/conda/lib/python3.9/site-packages/sklearn/linear_model/_logistic.py:814: ConvergenceWarning: lbfgs failed to converge (status=1):\n",
      "STOP: TOTAL NO. of ITERATIONS REACHED LIMIT.\n",
      "\n",
      "Increase the number of iterations (max_iter) or scale the data as shown in:\n",
      "    https://scikit-learn.org/stable/modules/preprocessing.html\n",
      "Please also refer to the documentation for alternative solver options:\n",
      "    https://scikit-learn.org/stable/modules/linear_model.html#logistic-regression\n",
      "  n_iter_i = _check_optimize_result(\n"
     ]
    },
    {
     "name": "stdout",
     "output_type": "stream",
     "text": [
      "VotingClassifier의 정확도 : 0.82,           F1 score : 0.81\n",
      "2114.756245136261\n"
     ]
    }
   ],
   "source": [
    "ft_acc, ft_f1 = ml_model(ft_tfidfv, ft_y_train, ft_tfidfv_test, ft_y_test)"
   ]
  },
  {
   "cell_type": "markdown",
   "id": "2a111673",
   "metadata": {},
   "source": [
    "## Only use the top 8,000 words in frequency"
   ]
  },
  {
   "cell_type": "code",
   "execution_count": 77,
   "id": "7e3030b7",
   "metadata": {},
   "outputs": [],
   "source": [
    "et_tfidfv, et_y_train, et_tfidfv_test, et_y_test = reuters_embedding(num_words = 8000, split = 0.2)"
   ]
  },
  {
   "cell_type": "code",
   "execution_count": null,
   "id": "1fb19f76",
   "metadata": {},
   "outputs": [
    {
     "name": "stdout",
     "output_type": "stream",
     "text": [
      "MultinomialNB의 정확도 : 0.66,           F1 score : 0.58\n",
      "ComplementNB의 정확도 : 0.77,           F1 score : 0.75\n"
     ]
    }
   ],
   "source": [
    "et_acc, et_f1 = ml_model(et_tfidfv, et_y_train, et_tfidfv_test, et_y_test)"
   ]
  },
  {
   "cell_type": "markdown",
   "id": "069c2f64",
   "metadata": {},
   "source": [
    "## Only use the top 12,000 words in frequency"
   ]
  },
  {
   "cell_type": "code",
   "execution_count": null,
   "id": "4d45a771",
   "metadata": {},
   "outputs": [],
   "source": [
    "## Only use the top 5,000 words in frequencytt_tfidfv, tt_y_train, tt_tfidfv_test, tt_y_test = reuters_embedding(num_words = 15000, split = 0.2)"
   ]
  },
  {
   "cell_type": "code",
   "execution_count": null,
   "id": "a86e90e8",
   "metadata": {},
   "outputs": [],
   "source": [
    "tt_acc, tt_f1 = ml_model(tt_tfidfv, tt_y_train, tt_tfidfv_test, tt_y_test)"
   ]
  },
  {
   "cell_type": "markdown",
   "id": "77c0f90f",
   "metadata": {},
   "source": [
    "## Only use the top 16,000 words in frequency"
   ]
  },
  {
   "cell_type": "code",
   "execution_count": null,
   "id": "f08ccb7c",
   "metadata": {},
   "outputs": [],
   "source": [
    "st_tfidfv, st_y_train, st_tfidfv_test, st_y_test = reuters_embedding(num_words = 16000, split = 0.2)"
   ]
  },
  {
   "cell_type": "code",
   "execution_count": null,
   "id": "3643eb6a",
   "metadata": {},
   "outputs": [],
   "source": [
    "st_acc, st_f1 = ml_model(st_tfidfv, st_y_train, st_tfidfv_test, st_y_test)"
   ]
  },
  {
   "cell_type": "markdown",
   "id": "892f4f3c",
   "metadata": {},
   "source": [
    "## Performance of 8 machine learning models by vocabulary size"
   ]
  },
  {
   "cell_type": "code",
   "execution_count": null,
   "id": "aeb535db",
   "metadata": {},
   "outputs": [],
   "source": [
    "whole_acc.appendleft('whole')\n",
    "ft_acc.appendleft('5k')\n",
    "et_acc.appendleft('8k')\n",
    "tt_acc.appendleft('12k')\n",
    "st_acc.appendleft('16k')\n",
    "        \n",
    "data = [whole_acc,\n",
    "        ft_acc,\n",
    "        et_acc,\n",
    "        tt_acc,\n",
    "        st_acc]\n",
    " \n",
    "# form dataframe from data\n",
    "df = pd.DataFrame(data, columns=[\"Frequency\", \"NaiveBayes\", \"ComplementNaiveBayes\", \"LogisticRegression\", \"SupportVectorMachine\", \"DecisionTree\", \"RandomForest\", \"GradientBoostingClassifier\", \"Voting\"])\n",
    " \n",
    "# plot multiple columns such as population and year from dataframe\n",
    "df.plot(x=\"City\", y=[\"NaiveBayes\", \"ComplementNaiveBayes\", \"LogisticRegression\", \"SupportVectorMachine\", \"DecisionTree\", \"RandomForest\", \"GradientBoostingClassifier\", \"Voting\"],\n",
    "        kind=\"line\", figsize=(10, 10))\n",
    " \n",
    "# display plot\n",
    "plt.show()"
   ]
  },
  {
   "cell_type": "markdown",
   "id": "91e20c78",
   "metadata": {},
   "source": [
    "## Deep learning model"
   ]
  },
  {
   "cell_type": "markdown",
   "id": "b20de381",
   "metadata": {},
   "source": [
    "#### Load and preprocessing"
   ]
  },
  {
   "cell_type": "code",
   "execution_count": null,
   "id": "f449336e",
   "metadata": {},
   "outputs": [],
   "source": [
    "(x_train, y_train), (x_test, y_test) = reuters.load_data(num_words=, test_split=0.2)\n",
    "\n",
    "vocab_size = \n",
    "max_len = 500\n",
    "\n",
    "x_train = sequence.pad_sequences(x_train, maxlen=max_len)\n",
    "x_test = sequence.pad_sequences(x_test, maxlen=max_len)\n",
    "\n",
    "y_train = np_utils.to_categorical(y_train)\n",
    "y_test = np_utils.to_categorical(y_test)\n",
    "\n",
    "s_len = [len(s) for s in x_train]\n",
    "print(sum([int(i<=500) for i in s_len]))\n",
    "print(sum([int(i<=500) for i in s_len])/len(x_train))\n",
    "print(np.shape(x_train))"
   ]
  },
  {
   "cell_type": "markdown",
   "id": "cd1b819c",
   "metadata": {},
   "source": [
    "#### Modeling"
   ]
  },
  {
   "cell_type": "code",
   "execution_count": null,
   "id": "8fd60248",
   "metadata": {},
   "outputs": [],
   "source": [
    "embedding_dim = 128\n",
    "num_classes = 46\n",
    "\n",
    "model = tf.keras.Sequential([\n",
    "    tf.keras.layers.Embedding(input_dim=vocab_size, output_dim=embedding_dim, input_length=max_len),                        \n",
    "    tf.keras.layers.Dropout(0.5),\n",
    "    tf.keras.layers.Conv1D(64, 5, padding='valid', activation='relu', strides=1),\n",
    "    tf.keras.layers.MaxPooling1D(pool_size=3),\n",
    "    tf.keras.layers.LSTM(units=num_classes),\n",
    "    tf.keras.layers.Dense(num_classes, activation='softmax')\n",
    "])\n",
    "\n",
    "model.compile(loss='categorical_crossentropy',\n",
    "            optimizer='adam',\n",
    "            metrics=['accuracy'])\n",
    "\n",
    "es = EarlyStopping(monitor='val_loss', mode='min', verbose=1, patience=4)\n",
    "mc = ModelCheckpoint('best_model.h5', monitor='val_acc', mode='max', verbose=1, save_best_only=True)\n",
    "\n",
    "model.summary()"
   ]
  },
  {
   "cell_type": "markdown",
   "id": "c3941735",
   "metadata": {},
   "source": [
    "#### Test"
   ]
  },
  {
   "cell_type": "code",
   "execution_count": null,
   "id": "8ddca8c9",
   "metadata": {},
   "outputs": [],
   "source": [
    "# 모델의 실행\n",
    "history = model.fit(x_train, y_train, epochs=15, batch_size=32, callbacks=[es, mc], validation_data=(x_test, y_test))\n",
    "\n",
    "plt.figure(figsize=(12, 4))\n",
    "\n",
    "plt.subplot(1, 2, 1)\n",
    "plt.plot(history.history['loss'], 'b-', label='loss')\n",
    "plt.plot(history.history['val_loss'], 'r--', label='val_loss')\n",
    "plt.xlabel('Epoch')\n",
    "plt.legend()\n",
    "\n",
    "plt.subplot(1, 2, 2)\n",
    "plt.plot(history.history['accuracy'], 'g-', label='accuracy')\n",
    "plt.plot(history.history['val_accuracy'], 'k--', label='val_accuracy')\n",
    "plt.xlabel('Epoch')\n",
    "plt.legend()\n",
    "\n",
    "plt.show()"
   ]
  },
  {
   "cell_type": "markdown",
   "id": "150bd4f3",
   "metadata": {},
   "source": [
    "## Discussion"
   ]
  },
  {
   "cell_type": "markdown",
   "id": "73ef2ba8",
   "metadata": {},
   "source": [
    "1. 분류 모델의 accuracy가 기준 이상 높게 나왔는가?  \n",
    " - 3가지 단어 개수에 대해 8가지 머신러닝 기법을 적용하여 그중 최적의 솔루션을 도출하였다.  \n",
    " \n",
    " \n",
    "2. 분류 모델의 F1 score가 기준 이상 높게 나왔는가?  \n",
    " - Vocabulary size에 따른 각 머신러닝 모델의 성능변화 추이를 살피고, 해당 머신러닝 알고리즘의 특성에 근거해 원인을 분석하였다.  \n",
    " \n",
    " \n",
    "3. 딥러닝 모델을 활용해 성능이 비교 및 확인되었는가?  \n",
    " - 동일한 데이터셋과 전처리 조건으로 딥러닝 모델의 성능과 비교하여 결과에 따른 원인을 분석하였다.  "
   ]
  },
  {
   "cell_type": "markdown",
   "id": "f87b9eef",
   "metadata": {},
   "source": [
    "## Reference"
   ]
  },
  {
   "cell_type": "markdown",
   "id": "d9ec3702",
   "metadata": {},
   "source": [
    "1. https://github.com/miinkang/AI_Project_AIFFEL/blob/main/%5BGD-04%5DTFIDF_vectorization.ipynb\n",
    "2. https://bin-repository.tistory.com/50\n",
    "3. https://blog.naver.com/wideeyed/221622877426\n",
    "4. https://www.geeksforgeeks.org/how-to-plot-multiple-data-columns-in-a-dataframe/\n",
    "5. https://dev-dain.tistory.com/92\n",
    "6. https://codechacha.com/ko/python-append-at-front-in-list/\n",
    "7. https://wikidocs.net/22933"
   ]
  }
 ],
 "metadata": {
  "kernelspec": {
   "display_name": "Python 3 (ipykernel)",
   "language": "python",
   "name": "python3"
  },
  "language_info": {
   "codemirror_mode": {
    "name": "ipython",
    "version": 3
   },
   "file_extension": ".py",
   "mimetype": "text/x-python",
   "name": "python",
   "nbconvert_exporter": "python",
   "pygments_lexer": "ipython3",
   "version": "3.9.7"
  }
 },
 "nbformat": 4,
 "nbformat_minor": 5
}
