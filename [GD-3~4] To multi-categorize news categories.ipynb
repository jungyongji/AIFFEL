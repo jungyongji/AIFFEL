{
 "cells": [
  {
   "cell_type": "markdown",
   "id": "b26acdee",
   "metadata": {},
   "source": [
    "## Imports"
   ]
  },
  {
   "cell_type": "code",
   "execution_count": 1,
   "id": "6a003e0b",
   "metadata": {},
   "outputs": [],
   "source": [
    "import time\n",
    "import numpy as np\n",
    "import pandas as pd\n",
    "import seaborn as sns\n",
    "import tensorflow as tf\n",
    "import matplotlib.pyplot as plt\n",
    "\n",
    "from collections import deque\n",
    "\n",
    "from tensorflow.keras.datasets import reuters\n",
    "from tensorflow.keras.models import load_model\n",
    "from tensorflow.keras.models import Sequential\n",
    "from tensorflow.keras.utils import to_categorical\n",
    "from tensorflow.keras.layers import Dense, LSTM, Embedding\n",
    "from tensorflow.keras.preprocessing.sequence import pad_sequences\n",
    "from tensorflow.keras.callbacks import EarlyStopping, ModelCheckpoint\n",
    "\n",
    "from sklearn.svm import LinearSVC\n",
    "from sklearn.metrics import f1_score\n",
    "from sklearn.metrics import accuracy_score\n",
    "from sklearn.naive_bayes import ComplementNB\n",
    "from sklearn.metrics import confusion_matrix\n",
    "from sklearn.ensemble import VotingClassifier\n",
    "from sklearn.naive_bayes import MultinomialNB\n",
    "from sklearn.tree import DecisionTreeClassifier\n",
    "from sklearn.metrics import classification_report\n",
    "from sklearn.ensemble import RandomForestClassifier\n",
    "from sklearn.ensemble import GradientBoostingClassifier\n",
    "from sklearn.feature_extraction.text import CountVectorizer\n",
    "from sklearn.feature_extraction.text import TfidfTransformer\n",
    "from sklearn.linear_model import LogisticRegression, SGDClassifier"
   ]
  },
  {
   "cell_type": "markdown",
   "id": "9ee4b3be",
   "metadata": {},
   "source": [
    "## Data load"
   ]
  },
  {
   "cell_type": "code",
   "execution_count": 55,
   "id": "34790cfa",
   "metadata": {},
   "outputs": [],
   "source": [
    "(x_train, y_train), (x_test, y_test) = reuters.load_data(num_words=10000, test_split=0.2)"
   ]
  },
  {
   "cell_type": "markdown",
   "id": "3897a8fb",
   "metadata": {},
   "source": [
    "## EDA"
   ]
  },
  {
   "cell_type": "code",
   "execution_count": 56,
   "id": "520760ec",
   "metadata": {},
   "outputs": [
    {
     "name": "stdout",
     "output_type": "stream",
     "text": [
      "훈련 샘플의 수: 8982\n",
      "테스트 샘플의 수: 2246\n"
     ]
    }
   ],
   "source": [
    "print('훈련 샘플의 수: {}'.format(len(x_train)))\n",
    "print('테스트 샘플의 수: {}'.format(len(x_test)))"
   ]
  },
  {
   "cell_type": "code",
   "execution_count": 57,
   "id": "ccef5410",
   "metadata": {},
   "outputs": [
    {
     "name": "stdout",
     "output_type": "stream",
     "text": [
      "클래스의 수 : 46\n"
     ]
    }
   ],
   "source": [
    "num_classes = max(y_train) + 1\n",
    "print('클래스의 수 : {}'.format(num_classes))"
   ]
  },
  {
   "cell_type": "code",
   "execution_count": 58,
   "id": "74cb27f5",
   "metadata": {},
   "outputs": [
    {
     "name": "stdout",
     "output_type": "stream",
     "text": [
      "훈련용 뉴스의 최대 길이 :2376\n",
      "훈련용 뉴스의 평균 길이 :145.5398574927633\n"
     ]
    },
    {
     "data": {
      "image/png": "[encoded data removed]",
      "text/plain": [
       "<Figure size 432x288 with 1 Axes>"
      ]
     },
     "metadata": {
      "needs_background": "light"
     },
     "output_type": "display_data"
    }
   ],
   "source": [
    "print('훈련용 뉴스의 최대 길이 :{}'.format(max(len(l) for l in x_train)))\n",
    "print('훈련용 뉴스의 평균 길이 :{}'.format(sum(map(len, x_train))/len(x_train)))\n",
    "\n",
    "plt.hist([len(s) for s in x_train], bins=50)\n",
    "plt.xlabel('length of samples')\n",
    "plt.ylabel('number of samples')\n",
    "plt.show()"
   ]
  },
  {
   "cell_type": "code",
   "execution_count": 59,
   "id": "91cc7c6a",
   "metadata": {},
   "outputs": [
    {
     "data": {
      "image/png": "[encoded data removed]",
      "text/plain": [
       "<Figure size 792x360 with 1 Axes>"
      ]
     },
     "metadata": {
      "needs_background": "light"
     },
     "output_type": "display_data"
    }
   ],
   "source": [
    "fig, axe = plt.subplots(ncols=1)\n",
    "fig.set_size_inches(11,5)\n",
    "sns.countplot(x=y_train)\n",
    "plt.show()"
   ]
  },
  {
   "cell_type": "markdown",
   "id": "cbbe4752",
   "metadata": {},
   "source": [
    "## Decoding"
   ]
  },
  {
   "cell_type": "code",
   "execution_count": 60,
   "id": "41ac9f10",
   "metadata": {},
   "outputs": [],
   "source": [
    "word_index = reuters.get_word_index(path=\"reuters_word_index.json\")"
   ]
  },
  {
   "cell_type": "code",
   "execution_count": 61,
   "id": "bda75c0a",
   "metadata": {},
   "outputs": [],
   "source": [
    "index_to_word = { index+3 : word for word, index in word_index.items() }"
   ]
  },
  {
   "cell_type": "code",
   "execution_count": 62,
   "id": "aa6ef84d",
   "metadata": {},
   "outputs": [],
   "source": [
    "# index_to_word에 숫자 0은 <pad>, 숫자 1은 <sos>, 숫자 2는 <unk>를 넣어줍니다.\n",
    "for index, token in enumerate((\"<pad>\", \"<sos>\", \"<unk>\")):\n",
    "    index_to_word[index]=token"
   ]
  },
  {
   "cell_type": "code",
   "execution_count": 63,
   "id": "9f065bbc",
   "metadata": {},
   "outputs": [
    {
     "name": "stdout",
     "output_type": "stream",
     "text": [
      "<sos> <unk> <unk> said as a result of its december acquisition of space co it expects earnings per share in 1987 of 1 15 to 1 30 dlrs per share up from 70 cts in 1986 the company said pretax net should rise to nine to 10 mln dlrs from six mln dlrs in 1986 and rental operation revenues to 19 to 22 mln dlrs from 12 5 mln dlrs it said cash flow per share this year should be 2 50 to three dlrs reuter 3\n"
     ]
    }
   ],
   "source": [
    "print(' '.join([index_to_word[index] for index in x_train[0]]))"
   ]
  },
  {
   "cell_type": "code",
   "execution_count": 40,
   "id": "5f4221b1",
   "metadata": {},
   "outputs": [
    {
     "name": "stdout",
     "output_type": "stream",
     "text": [
      "the transaction is expected to be completed\n"
     ]
    }
   ],
   "source": [
    "print(' '.join([index_to_word[index] for index in [4, 587, 23, 133, 6, 30, 515]]))"
   ]
  },
  {
   "cell_type": "code",
   "execution_count": 41,
   "id": "05f33412",
   "metadata": {},
   "outputs": [
    {
     "name": "stdout",
     "output_type": "stream",
     "text": [
      "8982\n"
     ]
    }
   ],
   "source": [
    "decoded = []\n",
    "for i in range(len(x_train)):\n",
    "    t = ' '.join([index_to_word[index] for index in x_train[i]])\n",
    "    decoded.append(t)\n",
    "\n",
    "x_train = decoded\n",
    "print(len(x_train))"
   ]
  },
  {
   "cell_type": "code",
   "execution_count": 42,
   "id": "9063b408",
   "metadata": {},
   "outputs": [
    {
     "name": "stdout",
     "output_type": "stream",
     "text": [
      "2246\n"
     ]
    }
   ],
   "source": [
    "decoded = []\n",
    "for i in range(len(x_test)):\n",
    "    t = ' '.join([index_to_word[index] for index in x_test[i]])\n",
    "    decoded.append(t)\n",
    "\n",
    "x_test = decoded\n",
    "print(len(x_test))"
   ]
  },
  {
   "cell_type": "code",
   "execution_count": 43,
   "id": "3d751bd7",
   "metadata": {},
   "outputs": [
    {
     "data": {
      "text/plain": [
       "'<sos> <unk> <unk> said as a result of its december acquisition of space co it expects earnings per share in 1987 of 1 15 to 1 30 dlrs per share up from 70 cts in 1986 the company said pretax net should rise to nine to 10 mln dlrs from six mln dlrs in 1986 and rental operation revenues to 19 to 22 mln dlrs from 12 5 mln dlrs it said cash flow per share this year should be 2 50 to three dlrs reuter 3'"
      ]
     },
     "execution_count": 43,
     "metadata": {},
     "output_type": "execute_result"
    }
   ],
   "source": [
    "x_train[0]"
   ]
  },
  {
   "cell_type": "markdown",
   "id": "504436de",
   "metadata": {},
   "source": [
    "## Embedding"
   ]
  },
  {
   "cell_type": "code",
   "execution_count": 44,
   "id": "162d859d",
   "metadata": {},
   "outputs": [
    {
     "name": "stdout",
     "output_type": "stream",
     "text": [
      "(8982, 9670)\n"
     ]
    }
   ],
   "source": [
    "dtmvector = CountVectorizer()\n",
    "x_train_dtm = dtmvector.fit_transform(x_train)\n",
    "print(x_train_dtm.shape)"
   ]
  },
  {
   "cell_type": "code",
   "execution_count": 45,
   "id": "fd52dc15",
   "metadata": {},
   "outputs": [
    {
     "name": "stdout",
     "output_type": "stream",
     "text": [
      "(8982, 9670)\n"
     ]
    }
   ],
   "source": [
    "tfidf_transformer = TfidfTransformer()\n",
    "tfidfv = tfidf_transformer.fit_transform(x_train_dtm)\n",
    "print(tfidfv.shape)"
   ]
  },
  {
   "cell_type": "markdown",
   "id": "acda8c21",
   "metadata": {},
   "source": [
    "## Functionalization"
   ]
  },
  {
   "cell_type": "markdown",
   "id": "4bc91bb0",
   "metadata": {},
   "source": [
    "#### Functionalize the process of decoding and embedding the training andtest dataset after loading the Reuters news data according to the frequency of words"
   ]
  },
  {
   "cell_type": "code",
   "execution_count": 46,
   "id": "15e8ae84",
   "metadata": {},
   "outputs": [],
   "source": [
    "word_index = reuters.get_word_index(path=\"reuters_word_index.json\")\n",
    "index_to_word = { index+3 : word for word, index in word_index.items() }\n",
    "for index, token in enumerate((\"<pad>\", \"<sos>\", \"<unk>\")):\n",
    "    index_to_word[index]=token\n",
    "    \n",
    "dtmvector = CountVectorizer()\n",
    "tfidf_transformer = TfidfTransformer()\n",
    "\n",
    "def reuters_embedding(num_words = None ,split = 0.2):\n",
    "    (x_train, y_train), (x_test, y_test) = reuters.load_data(num_words=num_words, test_split = split)\n",
    "    \n",
    "    \n",
    "    ## Decoding\n",
    "    train_decoded = []\n",
    "    test_decoded = []\n",
    "\n",
    "    for i in range(len(x_train)):\n",
    "        t = ' '.join([index_to_word[index] for index in x_train[i]])\n",
    "        train_decoded.append(t)\n",
    "    x_train = train_decoded\n",
    "    \n",
    "    \n",
    "    for i in range(len(x_test)):\n",
    "        t = ' '.join([index_to_word[index] for index in x_test[i]])\n",
    "        test_decoded.append(t)\n",
    "    x_test = test_decoded\n",
    "    \n",
    "    \n",
    "    ## Embedding\n",
    "    x_train_dtm = dtmvector.fit_transform(x_train)\n",
    "    tfidfv = tfidf_transformer.fit_transform(x_train_dtm)\n",
    "    \n",
    "    x_test_dtm = dtmvector.transform(x_test)\n",
    "    tfidfv_test = tfidf_transformer.transform(x_test_dtm)\n",
    "\n",
    "    return tfidfv, y_train, tfidfv_test, y_test"
   ]
  },
  {
   "cell_type": "markdown",
   "id": "8a7e47cb",
   "metadata": {},
   "source": [
    "#### Functionalize the process of returning accuracy after learning and training with 8 machine learning models\n",
    "Use weighted F1-score due to unbalanced distribution of classes"
   ]
  },
  {
   "cell_type": "code",
   "execution_count": 47,
   "id": "a836ab9b",
   "metadata": {},
   "outputs": [],
   "source": [
    "def evaluated_model(y_test, predicted):\n",
    "    acc = round(accuracy_score(y_test, predicted), 2)\n",
    "    f1 = round(f1_score(y_test, predicted, average='weighted'), 2)\n",
    "    \n",
    "    return acc, f1"
   ]
  },
  {
   "cell_type": "code",
   "execution_count": 48,
   "id": "1b265183",
   "metadata": {},
   "outputs": [],
   "source": [
    "def ml_model(tfidfv, y_train, tfidfv_test, y_test):\n",
    "    \n",
    "    start = time.time()\n",
    "    acc = []\n",
    "    f1 = []\n",
    "    \n",
    "    \n",
    "    # 1. Multinomial Naive Bayes Classifier\n",
    "    model = MultinomialNB()\n",
    "    model.fit(tfidfv, y_train)\n",
    "\n",
    "    predicted = model.predict(tfidfv_test)\n",
    "    nb_acc, nb_f1 = evaluated_model(y_test, predicted)\n",
    "    acc.append(nb_acc)\n",
    "    f1.append(nb_f1)\n",
    "    print(f\"{model.__class__.__name__}의 정확도 : {nb_acc}, \\\n",
    "          F1 score : {nb_f1}\")\n",
    "\n",
    "\n",
    "    # 2. Complement Naive Bayes Classifier\n",
    "    cb = ComplementNB()\n",
    "    cb.fit(tfidfv, y_train)\n",
    "\n",
    "    predicted = cb.predict(tfidfv_test)\n",
    "    cb_acc, cb_f1 = evaluated_model(y_test, predicted)\n",
    "    acc.append(cb_acc)\n",
    "    f1.append(cb_f1)\n",
    "    print(f\"{cb.__class__.__name__}의 정확도 : {cb_acc}, \\\n",
    "          F1 score : {cb_f1}\")\n",
    "\n",
    "\n",
    "    # 3. Logistic Regression\n",
    "    lr = LogisticRegression(C=10000, penalty='l2')\n",
    "    lr.fit(tfidfv, y_train)\n",
    "\n",
    "    predicted = lr.predict(tfidfv_test)\n",
    "    lr_acc, lr_f1 = evaluated_model(y_test, predicted)\n",
    "    acc.append(lr_acc)\n",
    "    f1.append(lr_f1)\n",
    "    print(f\"{lr.__class__.__name__}의 정확도 : {lr_acc}, \\\n",
    "          F1 score : {lr_f1}\")\n",
    "\n",
    "\n",
    "    # 4. Linear Support Vector Machine\n",
    "    lsvc = LinearSVC(C=1000, penalty='l1', max_iter=500, dual=False)\n",
    "    lsvc.fit(tfidfv, y_train)\n",
    "\n",
    "    predicted = lsvc.predict(tfidfv_test)\n",
    "    lsvc_acc, lsvc_f1 = evaluated_model(y_test, predicted)\n",
    "    acc.append(lsvc_acc)\n",
    "    f1.append(lsvc_f1)\n",
    "    print(f\"{lsvc.__class__.__name__}의 정확도 : {lsvc_acc}, \\\n",
    "          F1 score : {lsvc_f1}\")\n",
    "\n",
    "\n",
    "    # 5. Decision Tree\n",
    "    tree = DecisionTreeClassifier(max_depth=10, random_state=0)\n",
    "    tree.fit(tfidfv, y_train)\n",
    "\n",
    "    predicted = tree.predict(tfidfv_test)\n",
    "    tree_acc, tree_f1 = evaluated_model(y_test, predicted)\n",
    "    acc.append(tree_acc)\n",
    "    f1.append(tree_f1)\n",
    "    print(f\"{tree.__class__.__name__}의 정확도 : {tree_acc}, \\\n",
    "          F1 score : {tree_f1}\")\n",
    "\n",
    "\n",
    "    # 6. Random Forest\n",
    "    forest = RandomForestClassifier(n_estimators=5, random_state=0)\n",
    "    forest.fit(tfidfv, y_train)\n",
    "\n",
    "    predicted = forest.predict(tfidfv_test)\n",
    "    forest_acc, forest_f1 = evaluated_model(y_test, predicted)\n",
    "    acc.append(forest_acc)\n",
    "    f1.append(forest_f1)\n",
    "    print(f\"{forest.__class__.__name__}의 정확도 : {forest_acc}, \\\n",
    "          F1 score : {forest_f1}\")\n",
    "\n",
    "\n",
    "    # 7. GradientBoostingClassifier\n",
    "    grbt = GradientBoostingClassifier(random_state=0) # verbose=3\n",
    "    grbt.fit(tfidfv, y_train)\n",
    "\n",
    "    predicted = grbt.predict(tfidfv_test)\n",
    "    grbt_acc, grbt_f1 = evaluated_model(y_test, predicted)\n",
    "    acc.append(grbt_acc)\n",
    "    f1.append(grbt_f1)\n",
    "    print(f\"{grbt.__class__.__name__}의 정확도 : {grbt_acc}, \\\n",
    "          F1 score : {grbt_f1}\")\n",
    "\n",
    "\n",
    "    # 8. Voting\n",
    "    voting_classifier = VotingClassifier(estimators=[\n",
    "             ('lr', LogisticRegression(C=10000, penalty='l2')),\n",
    "            ('cb', ComplementNB()),\n",
    "            ('grbt', GradientBoostingClassifier(random_state=0))\n",
    "    ], voting='soft', n_jobs=-1)\n",
    "    voting_classifier.fit(tfidfv, y_train)\n",
    "\n",
    "    predicted = voting_classifier.predict(tfidfv_test)\n",
    "    voting_classifier_acc, voting_classifier_f1 = evaluated_model(y_test, predicted)\n",
    "    acc.append(voting_classifier_acc)\n",
    "    f1.append(voting_classifier_f1)\n",
    "    print(f\"{voting_classifier.__class__.__name__}의 정확도 : {voting_classifier_acc}, \\\n",
    "          F1 score : {voting_classifier_f1}\")\n",
    "\n",
    "    print(time.time()-start)\n",
    "    \n",
    "    return acc, f1"
   ]
  },
  {
   "cell_type": "markdown",
   "id": "34a746ea",
   "metadata": {},
   "source": [
    "## Use all words"
   ]
  },
  {
   "cell_type": "code",
   "execution_count": 73,
   "id": "29b45c0a",
   "metadata": {},
   "outputs": [],
   "source": [
    "whole_tfidfv, whole_y_train, whole_tfidfv_test, whole_y_test = reuters_embedding(num_words = None, split = 0.2)"
   ]
  },
  {
   "cell_type": "code",
   "execution_count": 74,
   "id": "5c6ba14a",
   "metadata": {},
   "outputs": [
    {
     "name": "stdout",
     "output_type": "stream",
     "text": [
      "MultinomialNB의 정확도 : 0.6,           F1 score : 0.5\n",
      "ComplementNB의 정확도 : 0.76,           F1 score : 0.73\n"
     ]
    },
    {
     "name": "stderr",
     "output_type": "stream",
     "text": [
      "/opt/conda/lib/python3.9/site-packages/sklearn/linear_model/_logistic.py:814: ConvergenceWarning: lbfgs failed to converge (status=1):\n",
      "STOP: TOTAL NO. of ITERATIONS REACHED LIMIT.\n",
      "\n",
      "Increase the number of iterations (max_iter) or scale the data as shown in:\n",
      "    https://scikit-learn.org/stable/modules/preprocessing.html\n",
      "Please also refer to the documentation for alternative solver options:\n",
      "    https://scikit-learn.org/stable/modules/linear_model.html#logistic-regression\n",
      "  n_iter_i = _check_optimize_result(\n"
     ]
    },
    {
     "name": "stdout",
     "output_type": "stream",
     "text": [
      "LogisticRegression의 정확도 : 0.81,           F1 score : 0.81\n"
     ]
    },
    {
     "name": "stderr",
     "output_type": "stream",
     "text": [
      "/opt/conda/lib/python3.9/site-packages/sklearn/svm/_base.py:1199: ConvergenceWarning: Liblinear failed to converge, increase the number of iterations.\n",
      "  warnings.warn(\n"
     ]
    },
    {
     "name": "stdout",
     "output_type": "stream",
     "text": [
      "LinearSVC의 정확도 : 0.79,           F1 score : 0.78\n",
      "DecisionTreeClassifier의 정확도 : 0.62,           F1 score : 0.58\n",
      "RandomForestClassifier의 정확도 : 0.65,           F1 score : 0.62\n",
      "GradientBoostingClassifier의 정확도 : 0.77,           F1 score : 0.76\n"
     ]
    },
    {
     "name": "stderr",
     "output_type": "stream",
     "text": [
      "/opt/conda/lib/python3.9/site-packages/sklearn/linear_model/_logistic.py:814: ConvergenceWarning: lbfgs failed to converge (status=1):\n",
      "STOP: TOTAL NO. of ITERATIONS REACHED LIMIT.\n",
      "\n",
      "Increase the number of iterations (max_iter) or scale the data as shown in:\n",
      "    https://scikit-learn.org/stable/modules/preprocessing.html\n",
      "Please also refer to the documentation for alternative solver options:\n",
      "    https://scikit-learn.org/stable/modules/linear_model.html#logistic-regression\n",
      "  n_iter_i = _check_optimize_result(\n"
     ]
    },
    {
     "name": "stdout",
     "output_type": "stream",
     "text": [
      "VotingClassifier의 정확도 : 0.82,           F1 score : 0.81\n",
      "2509.267175912857\n"
     ]
    }
   ],
   "source": [
    "whole_acc, whole_f1 = ml_model(whole_tfidfv, whole_y_train, whole_tfidfv_test, whole_y_test)"
   ]
  },
  {
   "cell_type": "markdown",
   "id": "53cd52bf",
   "metadata": {},
   "source": [
    "## Only use the top 5,000 words in frequency"
   ]
  },
  {
   "cell_type": "code",
   "execution_count": 75,
   "id": "9805ef7b",
   "metadata": {},
   "outputs": [],
   "source": [
    "ft_tfidfv, ft_y_train, ft_tfidfv_test, ft_y_test = reuters_embedding(num_words = 5000, split = 0.2)"
   ]
  },
  {
   "cell_type": "code",
   "execution_count": 76,
   "id": "56948dae",
   "metadata": {},
   "outputs": [
    {
     "name": "stdout",
     "output_type": "stream",
     "text": [
      "MultinomialNB의 정확도 : 0.67,           F1 score : 0.6\n",
      "ComplementNB의 정확도 : 0.77,           F1 score : 0.75\n"
     ]
    },
    {
     "name": "stderr",
     "output_type": "stream",
     "text": [
      "/opt/conda/lib/python3.9/site-packages/sklearn/linear_model/_logistic.py:814: ConvergenceWarning: lbfgs failed to converge (status=1):\n",
      "STOP: TOTAL NO. of ITERATIONS REACHED LIMIT.\n",
      "\n",
      "Increase the number of iterations (max_iter) or scale the data as shown in:\n",
      "    https://scikit-learn.org/stable/modules/preprocessing.html\n",
      "Please also refer to the documentation for alternative solver options:\n",
      "    https://scikit-learn.org/stable/modules/linear_model.html#logistic-regression\n",
      "  n_iter_i = _check_optimize_result(\n"
     ]
    },
    {
     "name": "stdout",
     "output_type": "stream",
     "text": [
      "LogisticRegression의 정확도 : 0.81,           F1 score : 0.8\n"
     ]
    },
    {
     "name": "stderr",
     "output_type": "stream",
     "text": [
      "/opt/conda/lib/python3.9/site-packages/sklearn/svm/_base.py:1199: ConvergenceWarning: Liblinear failed to converge, increase the number of iterations.\n",
      "  warnings.warn(\n"
     ]
    },
    {
     "name": "stdout",
     "output_type": "stream",
     "text": [
      "LinearSVC의 정확도 : 0.77,           F1 score : 0.77\n",
      "DecisionTreeClassifier의 정확도 : 0.62,           F1 score : 0.57\n",
      "RandomForestClassifier의 정확도 : 0.7,           F1 score : 0.68\n",
      "GradientBoostingClassifier의 정확도 : 0.77,           F1 score : 0.77\n"
     ]
    },
    {
     "name": "stderr",
     "output_type": "stream",
     "text": [
      "/opt/conda/lib/python3.9/site-packages/sklearn/linear_model/_logistic.py:814: ConvergenceWarning: lbfgs failed to converge (status=1):\n",
      "STOP: TOTAL NO. of ITERATIONS REACHED LIMIT.\n",
      "\n",
      "Increase the number of iterations (max_iter) or scale the data as shown in:\n",
      "    https://scikit-learn.org/stable/modules/preprocessing.html\n",
      "Please also refer to the documentation for alternative solver options:\n",
      "    https://scikit-learn.org/stable/modules/linear_model.html#logistic-regression\n",
      "  n_iter_i = _check_optimize_result(\n"
     ]
    },
    {
     "name": "stdout",
     "output_type": "stream",
     "text": [
      "VotingClassifier의 정확도 : 0.82,           F1 score : 0.81\n",
      "2114.756245136261\n"
     ]
    }
   ],
   "source": [
    "ft_acc, ft_f1 = ml_model(ft_tfidfv, ft_y_train, ft_tfidfv_test, ft_y_test)"
   ]
  },
  {
   "cell_type": "markdown",
   "id": "e40ca1fc",
   "metadata": {},
   "source": [
    "## Only use the top 8,000 words in frequency"
   ]
  },
  {
   "cell_type": "code",
   "execution_count": 77,
   "id": "c620815e",
   "metadata": {},
   "outputs": [],
   "source": [
    "et_tfidfv, et_y_train, et_tfidfv_test, et_y_test = reuters_embedding(num_words = 8000, split = 0.2)"
   ]
  },
  {
   "cell_type": "code",
   "execution_count": 78,
   "id": "5ff8a7f8",
   "metadata": {},
   "outputs": [
    {
     "name": "stdout",
     "output_type": "stream",
     "text": [
      "MultinomialNB의 정확도 : 0.66,           F1 score : 0.58\n",
      "ComplementNB의 정확도 : 0.77,           F1 score : 0.75\n"
     ]
    },
    {
     "name": "stderr",
     "output_type": "stream",
     "text": [
      "/opt/conda/lib/python3.9/site-packages/sklearn/linear_model/_logistic.py:814: ConvergenceWarning: lbfgs failed to converge (status=1):\n",
      "STOP: TOTAL NO. of ITERATIONS REACHED LIMIT.\n",
      "\n",
      "Increase the number of iterations (max_iter) or scale the data as shown in:\n",
      "    https://scikit-learn.org/stable/modules/preprocessing.html\n",
      "Please also refer to the documentation for alternative solver options:\n",
      "    https://scikit-learn.org/stable/modules/linear_model.html#logistic-regression\n",
      "  n_iter_i = _check_optimize_result(\n"
     ]
    },
    {
     "name": "stdout",
     "output_type": "stream",
     "text": [
      "LogisticRegression의 정확도 : 0.81,           F1 score : 0.8\n"
     ]
    },
    {
     "name": "stderr",
     "output_type": "stream",
     "text": [
      "/opt/conda/lib/python3.9/site-packages/sklearn/svm/_base.py:1199: ConvergenceWarning: Liblinear failed to converge, increase the number of iterations.\n",
      "  warnings.warn(\n"
     ]
    },
    {
     "name": "stdout",
     "output_type": "stream",
     "text": [
      "LinearSVC의 정확도 : 0.78,           F1 score : 0.77\n",
      "DecisionTreeClassifier의 정확도 : 0.62,           F1 score : 0.57\n",
      "RandomForestClassifier의 정확도 : 0.67,           F1 score : 0.64\n",
      "GradientBoostingClassifier의 정확도 : 0.76,           F1 score : 0.76\n"
     ]
    },
    {
     "name": "stderr",
     "output_type": "stream",
     "text": [
      "/opt/conda/lib/python3.9/site-packages/sklearn/linear_model/_logistic.py:814: ConvergenceWarning: lbfgs failed to converge (status=1):\n",
      "STOP: TOTAL NO. of ITERATIONS REACHED LIMIT.\n",
      "\n",
      "Increase the number of iterations (max_iter) or scale the data as shown in:\n",
      "    https://scikit-learn.org/stable/modules/preprocessing.html\n",
      "Please also refer to the documentation for alternative solver options:\n",
      "    https://scikit-learn.org/stable/modules/linear_model.html#logistic-regression\n",
      "  n_iter_i = _check_optimize_result(\n"
     ]
    },
    {
     "name": "stdout",
     "output_type": "stream",
     "text": [
      "VotingClassifier의 정확도 : 0.81,           F1 score : 0.81\n",
      "2241.040005683899\n"
     ]
    }
   ],
   "source": [
    "et_acc, et_f1 = ml_model(et_tfidfv, et_y_train, et_tfidfv_test, et_y_test)"
   ]
  },
  {
   "cell_type": "markdown",
   "id": "cb765173",
   "metadata": {},
   "source": [
    "## Only use the top 12,000 words in frequency"
   ]
  },
  {
   "cell_type": "code",
   "execution_count": 79,
   "id": "c2041086",
   "metadata": {},
   "outputs": [],
   "source": [
    "## Only use the top 5,000 words in frequencytt_tfidfv, tt_y_train, tt_tfidfv_test, tt_y_test = reuters_embedding(num_words = 15000, split = 0.2)"
   ]
  },
  {
   "cell_type": "code",
   "execution_count": 80,
   "id": "86ce0751",
   "metadata": {},
   "outputs": [
    {
     "name": "stdout",
     "output_type": "stream",
     "text": [
      "MultinomialNB의 정확도 : 0.63,           F1 score : 0.55\n",
      "ComplementNB의 정확도 : 0.77,           F1 score : 0.74\n"
     ]
    },
    {
     "name": "stderr",
     "output_type": "stream",
     "text": [
      "/opt/conda/lib/python3.9/site-packages/sklearn/linear_model/_logistic.py:814: ConvergenceWarning: lbfgs failed to converge (status=1):\n",
      "STOP: TOTAL NO. of ITERATIONS REACHED LIMIT.\n",
      "\n",
      "Increase the number of iterations (max_iter) or scale the data as shown in:\n",
      "    https://scikit-learn.org/stable/modules/preprocessing.html\n",
      "Please also refer to the documentation for alternative solver options:\n",
      "    https://scikit-learn.org/stable/modules/linear_model.html#logistic-regression\n",
      "  n_iter_i = _check_optimize_result(\n"
     ]
    },
    {
     "name": "stdout",
     "output_type": "stream",
     "text": [
      "LogisticRegression의 정확도 : 0.81,           F1 score : 0.81\n"
     ]
    },
    {
     "name": "stderr",
     "output_type": "stream",
     "text": [
      "/opt/conda/lib/python3.9/site-packages/sklearn/svm/_base.py:1199: ConvergenceWarning: Liblinear failed to converge, increase the number of iterations.\n",
      "  warnings.warn(\n"
     ]
    },
    {
     "name": "stdout",
     "output_type": "stream",
     "text": [
      "LinearSVC의 정확도 : 0.78,           F1 score : 0.78\n",
      "DecisionTreeClassifier의 정확도 : 0.62,           F1 score : 0.58\n",
      "RandomForestClassifier의 정확도 : 0.67,           F1 score : 0.64\n",
      "GradientBoostingClassifier의 정확도 : 0.77,           F1 score : 0.77\n"
     ]
    },
    {
     "name": "stderr",
     "output_type": "stream",
     "text": [
      "/opt/conda/lib/python3.9/site-packages/sklearn/linear_model/_logistic.py:814: ConvergenceWarning: lbfgs failed to converge (status=1):\n",
      "STOP: TOTAL NO. of ITERATIONS REACHED LIMIT.\n",
      "\n",
      "Increase the number of iterations (max_iter) or scale the data as shown in:\n",
      "    https://scikit-learn.org/stable/modules/preprocessing.html\n",
      "Please also refer to the documentation for alternative solver options:\n",
      "    https://scikit-learn.org/stable/modules/linear_model.html#logistic-regression\n",
      "  n_iter_i = _check_optimize_result(\n"
     ]
    },
    {
     "name": "stdout",
     "output_type": "stream",
     "text": [
      "VotingClassifier의 정확도 : 0.82,           F1 score : 0.81\n",
      "2339.180963754654\n"
     ]
    }
   ],
   "source": [
    "tt_acc, tt_f1 = ml_model(tt_tfidfv, tt_y_train, tt_tfidfv_test, tt_y_test)"
   ]
  },
  {
   "cell_type": "markdown",
   "id": "c0b0fcf2",
   "metadata": {},
   "source": [
    "## Only use the top 16,000 words in frequency"
   ]
  },
  {
   "cell_type": "code",
   "execution_count": 81,
   "id": "66759982",
   "metadata": {},
   "outputs": [],
   "source": [
    "st_tfidfv, st_y_train, st_tfidfv_test, st_y_test = reuters_embedding(num_words = 16000, split = 0.2)"
   ]
  },
  {
   "cell_type": "code",
   "execution_count": 82,
   "id": "9168b270",
   "metadata": {},
   "outputs": [
    {
     "name": "stdout",
     "output_type": "stream",
     "text": [
      "MultinomialNB의 정확도 : 0.63,           F1 score : 0.55\n",
      "ComplementNB의 정확도 : 0.77,           F1 score : 0.74\n"
     ]
    },
    {
     "name": "stderr",
     "output_type": "stream",
     "text": [
      "/opt/conda/lib/python3.9/site-packages/sklearn/linear_model/_logistic.py:814: ConvergenceWarning: lbfgs failed to converge (status=1):\n",
      "STOP: TOTAL NO. of ITERATIONS REACHED LIMIT.\n",
      "\n",
      "Increase the number of iterations (max_iter) or scale the data as shown in:\n",
      "    https://scikit-learn.org/stable/modules/preprocessing.html\n",
      "Please also refer to the documentation for alternative solver options:\n",
      "    https://scikit-learn.org/stable/modules/linear_model.html#logistic-regression\n",
      "  n_iter_i = _check_optimize_result(\n"
     ]
    },
    {
     "name": "stdout",
     "output_type": "stream",
     "text": [
      "LogisticRegression의 정확도 : 0.81,           F1 score : 0.81\n"
     ]
    },
    {
     "name": "stderr",
     "output_type": "stream",
     "text": [
      "/opt/conda/lib/python3.9/site-packages/sklearn/svm/_base.py:1199: ConvergenceWarning: Liblinear failed to converge, increase the number of iterations.\n",
      "  warnings.warn(\n"
     ]
    },
    {
     "name": "stdout",
     "output_type": "stream",
     "text": [
      "LinearSVC의 정확도 : 0.78,           F1 score : 0.77\n",
      "DecisionTreeClassifier의 정확도 : 0.62,           F1 score : 0.58\n",
      "RandomForestClassifier의 정확도 : 0.67,           F1 score : 0.64\n",
      "GradientBoostingClassifier의 정확도 : 0.77,           F1 score : 0.77\n"
     ]
    },
    {
     "name": "stderr",
     "output_type": "stream",
     "text": [
      "/opt/conda/lib/python3.9/site-packages/sklearn/linear_model/_logistic.py:814: ConvergenceWarning: lbfgs failed to converge (status=1):\n",
      "STOP: TOTAL NO. of ITERATIONS REACHED LIMIT.\n",
      "\n",
      "Increase the number of iterations (max_iter) or scale the data as shown in:\n",
      "    https://scikit-learn.org/stable/modules/preprocessing.html\n",
      "Please also refer to the documentation for alternative solver options:\n",
      "    https://scikit-learn.org/stable/modules/linear_model.html#logistic-regression\n",
      "  n_iter_i = _check_optimize_result(\n"
     ]
    },
    {
     "name": "stdout",
     "output_type": "stream",
     "text": [
      "VotingClassifier의 정확도 : 0.82,           F1 score : 0.81\n",
      "2339.4776153564453\n"
     ]
    }
   ],
   "source": [
    "st_acc, st_f1 = ml_model(st_tfidfv, st_y_train, st_tfidfv_test, st_y_test)"
   ]
  },
  {
   "cell_type": "markdown",
   "id": "f5155b7e",
   "metadata": {},
   "source": [
    "## Performance of 8 machine learning models by vocabulary size"
   ]
  },
  {
   "cell_type": "code",
   "execution_count": 21,
   "id": "648d2873",
   "metadata": {},
   "outputs": [
    {
     "data": {
      "image/png": "[encoded data removed]",
      "text/plain": [
       "<Figure size 720x720 with 1 Axes>"
      ]
     },
     "metadata": {
      "needs_background": "light"
     },
     "output_type": "display_data"
    }
   ],
   "source": [
    "whole_acc = deque(whole_acc)\n",
    "whole_acc.appendleft('whole')\n",
    "\n",
    "ft_acc = deque(ft_acc)\n",
    "ft_acc.appendleft('5k')\n",
    "\n",
    "et_acc = deque(et_acc)\n",
    "et_acc.appendleft('8k')\n",
    "\n",
    "tt_acc = deque(tt_acc)\n",
    "tt_acc.appendleft('12k')\n",
    "\n",
    "st_acc = deque(st_acc)\n",
    "st_acc.appendleft('16k')\n",
    "\n",
    "\n",
    "data = [ft_acc,\n",
    "        et_acc,\n",
    "        tt_acc,\n",
    "        st_acc,\n",
    "        whole_acc]\n",
    " \n",
    "# form dataframe from data\n",
    "df = pd.DataFrame(data, columns=[\"Frequency\", \"NaiveBayes\", \"ComplementNaiveBayes\", \"LogisticRegression\", \"SupportVectorMachine\", \"DecisionTree\", \"RandomForest\", \"GradientBoostingClassifier\", \"Voting\"])\n",
    " \n",
    "# plot multiple columns such as population and year from dataframe\n",
    "df.plot(x=\"Frequency\", y=[\"NaiveBayes\", \"ComplementNaiveBayes\", \"LogisticRegression\", \"SupportVectorMachine\", \"DecisionTree\", \"RandomForest\", \"GradientBoostingClassifier\", \"Voting\"],\n",
    "        kind=\"line\", figsize=(10, 10))\n",
    " \n",
    "# display plot\n",
    "plt.show()"
   ]
  },
  {
   "cell_type": "code",
   "execution_count": 22,
   "id": "eb3a116e",
   "metadata": {},
   "outputs": [
    {
     "data": {
      "text/html": [
       "<div>\n",
       "<style scoped>\n",
       "    .dataframe tbody tr th:only-of-type {\n",
       "        vertical-align: middle;\n",
       "    }\n",
       "\n",
       "    .dataframe tbody tr th {\n",
       "        vertical-align: top;\n",
       "    }\n",
       "\n",
       "    .dataframe thead th {\n",
       "        text-align: right;\n",
       "    }\n",
       "</style>\n",
       "<table border=\"1\" class=\"dataframe\">\n",
       "  <thead>\n",
       "    <tr style=\"text-align: right;\">\n",
       "      <th></th>\n",
       "      <th>Frequency</th>\n",
       "      <th>NaiveBayes</th>\n",
       "      <th>ComplementNaiveBayes</th>\n",
       "      <th>LogisticRegression</th>\n",
       "      <th>SupportVectorMachine</th>\n",
       "      <th>DecisionTree</th>\n",
       "      <th>RandomForest</th>\n",
       "      <th>GradientBoostingClassifier</th>\n",
       "      <th>Voting</th>\n",
       "    </tr>\n",
       "  </thead>\n",
       "  <tbody>\n",
       "    <tr>\n",
       "      <th>0</th>\n",
       "      <td>5k</td>\n",
       "      <td>0.67</td>\n",
       "      <td>0.77</td>\n",
       "      <td>0.81</td>\n",
       "      <td>0.77</td>\n",
       "      <td>0.62</td>\n",
       "      <td>0.70</td>\n",
       "      <td>0.77</td>\n",
       "      <td>0.82</td>\n",
       "    </tr>\n",
       "    <tr>\n",
       "      <th>1</th>\n",
       "      <td>8k</td>\n",
       "      <td>0.66</td>\n",
       "      <td>0.77</td>\n",
       "      <td>0.81</td>\n",
       "      <td>0.78</td>\n",
       "      <td>0.62</td>\n",
       "      <td>0.67</td>\n",
       "      <td>0.76</td>\n",
       "      <td>0.81</td>\n",
       "    </tr>\n",
       "    <tr>\n",
       "      <th>2</th>\n",
       "      <td>12k</td>\n",
       "      <td>0.63</td>\n",
       "      <td>0.77</td>\n",
       "      <td>0.81</td>\n",
       "      <td>0.78</td>\n",
       "      <td>0.62</td>\n",
       "      <td>0.67</td>\n",
       "      <td>0.77</td>\n",
       "      <td>0.82</td>\n",
       "    </tr>\n",
       "    <tr>\n",
       "      <th>3</th>\n",
       "      <td>16k</td>\n",
       "      <td>0.63</td>\n",
       "      <td>0.77</td>\n",
       "      <td>0.81</td>\n",
       "      <td>0.78</td>\n",
       "      <td>0.62</td>\n",
       "      <td>0.67</td>\n",
       "      <td>0.77</td>\n",
       "      <td>0.82</td>\n",
       "    </tr>\n",
       "    <tr>\n",
       "      <th>4</th>\n",
       "      <td>whole</td>\n",
       "      <td>0.60</td>\n",
       "      <td>0.76</td>\n",
       "      <td>0.81</td>\n",
       "      <td>0.79</td>\n",
       "      <td>0.62</td>\n",
       "      <td>0.65</td>\n",
       "      <td>0.77</td>\n",
       "      <td>0.82</td>\n",
       "    </tr>\n",
       "  </tbody>\n",
       "</table>\n",
       "</div>"
      ],
      "text/plain": [
       "  Frequency  NaiveBayes  ComplementNaiveBayes  LogisticRegression  \\\n",
       "0        5k        0.67                  0.77                0.81   \n",
       "1        8k        0.66                  0.77                0.81   \n",
       "2       12k        0.63                  0.77                0.81   \n",
       "3       16k        0.63                  0.77                0.81   \n",
       "4     whole        0.60                  0.76                0.81   \n",
       "\n",
       "   SupportVectorMachine  DecisionTree  RandomForest  \\\n",
       "0                  0.77          0.62          0.70   \n",
       "1                  0.78          0.62          0.67   \n",
       "2                  0.78          0.62          0.67   \n",
       "3                  0.78          0.62          0.67   \n",
       "4                  0.79          0.62          0.65   \n",
       "\n",
       "   GradientBoostingClassifier  Voting  \n",
       "0                        0.77    0.82  \n",
       "1                        0.76    0.81  \n",
       "2                        0.77    0.82  \n",
       "3                        0.77    0.82  \n",
       "4                        0.77    0.82  "
      ]
     },
     "execution_count": 22,
     "metadata": {},
     "output_type": "execute_result"
    }
   ],
   "source": [
    "df"
   ]
  },
  {
   "cell_type": "code",
   "execution_count": 26,
   "id": "dca5b4b3",
   "metadata": {},
   "outputs": [
    {
     "data": {
      "text/plain": [
       "0    0.74125\n",
       "1    0.73500\n",
       "2    0.73375\n",
       "3    0.73375\n",
       "4    0.72750\n",
       "dtype: float64"
      ]
     },
     "execution_count": 26,
     "metadata": {},
     "output_type": "execute_result"
    }
   ],
   "source": [
    "df.iloc[:,1:].mean(axis='columns')"
   ]
  },
  {
   "cell_type": "markdown",
   "id": "50441299",
   "metadata": {},
   "source": [
    "## Deep learning model"
   ]
  },
  {
   "cell_type": "markdown",
   "id": "91124979",
   "metadata": {},
   "source": [
    "#### Load and preprocessing"
   ]
  },
  {
   "cell_type": "code",
   "execution_count": 71,
   "id": "cc6129e5",
   "metadata": {},
   "outputs": [
    {
     "name": "stdout",
     "output_type": "stream",
     "text": [
      "# of sentences less than 500 in length : 8623\n",
      "Ratio of sentences less than 500 in length : 0.9600311734580271\n"
     ]
    }
   ],
   "source": [
    "(X_train, Y_train), (X_test, Y_test) = reuters.load_data(num_words=5000, test_split=0.2)\n",
    "\n",
    "vocab_size = 5000\n",
    "max_len = 500\n",
    "\n",
    "x_train = pad_sequences(X_train, maxlen=max_len)\n",
    "x_test = pad_sequences(X_test, maxlen=max_len)\n",
    "\n",
    "y_train = to_categorical(Y_train)\n",
    "y_test = to_categorical(Y_test)\n",
    "\n",
    "s_len = [len(s) for s in X_train]\n",
    "print(\"# of sentences less than 500 in length :\", sum([int(i<=500) for i in s_len]))\n",
    "print(\"Ratio of sentences less than 500 in length :\", sum([int(i<=500) for i in s_len])/len(X_train))"
   ]
  },
  {
   "cell_type": "markdown",
   "id": "1ba1fc6a",
   "metadata": {},
   "source": [
    "#### Modeling"
   ]
  },
  {
   "cell_type": "code",
   "execution_count": 72,
   "id": "114f6c71",
   "metadata": {},
   "outputs": [
    {
     "name": "stdout",
     "output_type": "stream",
     "text": [
      "Model: \"sequential_1\"\n",
      "_________________________________________________________________\n",
      "Layer (type)                 Output Shape              Param #   \n",
      "=================================================================\n",
      "embedding_1 (Embedding)      (None, 500, 128)          640000    \n",
      "_________________________________________________________________\n",
      "dropout_1 (Dropout)          (None, 500, 128)          0         \n",
      "_________________________________________________________________\n",
      "conv1d_1 (Conv1D)            (None, 496, 64)           41024     \n",
      "_________________________________________________________________\n",
      "max_pooling1d_1 (MaxPooling1 (None, 165, 64)           0         \n",
      "_________________________________________________________________\n",
      "lstm_1 (LSTM)                (None, 46)                20424     \n",
      "_________________________________________________________________\n",
      "dense_1 (Dense)              (None, 46)                2162      \n",
      "=================================================================\n",
      "Total params: 703,610\n",
      "Trainable params: 703,610\n",
      "Non-trainable params: 0\n",
      "_________________________________________________________________\n"
     ]
    }
   ],
   "source": [
    "embedding_dim = 128\n",
    "num_classes = 46\n",
    "\n",
    "model = tf.keras.Sequential([\n",
    "    tf.keras.layers.Embedding(input_dim=vocab_size, output_dim=embedding_dim, input_length=max_len),                        \n",
    "    tf.keras.layers.Dropout(0.5),\n",
    "    tf.keras.layers.Conv1D(64, 5, padding='valid', activation='relu', strides=1),\n",
    "    tf.keras.layers.MaxPooling1D(pool_size=3),\n",
    "    tf.keras.layers.LSTM(units=num_classes),\n",
    "    tf.keras.layers.Dense(num_classes, activation='softmax')\n",
    "])\n",
    "\n",
    "model.compile(loss='categorical_crossentropy',\n",
    "            optimizer='adam',\n",
    "            metrics=['accuracy'])\n",
    "\n",
    "es = EarlyStopping(monitor='val_loss', mode='min', verbose=1, patience=4)\n",
    "mc = ModelCheckpoint('best_model.h5', monitor='val_acc', mode='max', verbose=1, save_best_only=True)\n",
    "\n",
    "model.summary()"
   ]
  },
  {
   "cell_type": "markdown",
   "id": "9b0c6b36",
   "metadata": {},
   "source": [
    "#### Test"
   ]
  },
  {
   "cell_type": "code",
   "execution_count": 73,
   "id": "6ae70ee1",
   "metadata": {},
   "outputs": [
    {
     "name": "stdout",
     "output_type": "stream",
     "text": [
      "Epoch 1/15\n",
      "281/281 [==============================] - 100s 347ms/step - loss: 2.1315 - accuracy: 0.4755 - val_loss: 1.7810 - val_accuracy: 0.5788\n",
      "WARNING:tensorflow:Can save best model only with val_acc available, skipping.\n",
      "Epoch 2/15\n",
      "281/281 [==============================] - 95s 340ms/step - loss: 1.6003 - accuracy: 0.6065 - val_loss: 1.8162 - val_accuracy: 0.5236\n",
      "WARNING:tensorflow:Can save best model only with val_acc available, skipping.\n",
      "Epoch 3/15\n",
      "281/281 [==============================] - 96s 342ms/step - loss: 1.5330 - accuracy: 0.6209 - val_loss: 1.5600 - val_accuracy: 0.6233\n",
      "WARNING:tensorflow:Can save best model only with val_acc available, skipping.\n",
      "Epoch 4/15\n",
      "281/281 [==============================] - 96s 341ms/step - loss: 1.3345 - accuracy: 0.6799 - val_loss: 1.4442 - val_accuracy: 0.6581\n",
      "WARNING:tensorflow:Can save best model only with val_acc available, skipping.\n",
      "Epoch 5/15\n",
      "281/281 [==============================] - 95s 339ms/step - loss: 1.2102 - accuracy: 0.7032 - val_loss: 1.3404 - val_accuracy: 0.6741\n",
      "WARNING:tensorflow:Can save best model only with val_acc available, skipping.\n",
      "Epoch 6/15\n",
      "281/281 [==============================] - 95s 339ms/step - loss: 1.0960 - accuracy: 0.7275 - val_loss: 1.3043 - val_accuracy: 0.6825\n",
      "WARNING:tensorflow:Can save best model only with val_acc available, skipping.\n",
      "Epoch 7/15\n",
      "281/281 [==============================] - 94s 333ms/step - loss: 0.9835 - accuracy: 0.7565 - val_loss: 1.2678 - val_accuracy: 0.6981\n",
      "WARNING:tensorflow:Can save best model only with val_acc available, skipping.\n",
      "Epoch 8/15\n",
      "281/281 [==============================] - 93s 331ms/step - loss: 0.9030 - accuracy: 0.7783 - val_loss: 1.2208 - val_accuracy: 0.7119\n",
      "WARNING:tensorflow:Can save best model only with val_acc available, skipping.\n",
      "Epoch 9/15\n",
      "281/281 [==============================] - 95s 340ms/step - loss: 0.8369 - accuracy: 0.7912 - val_loss: 1.2359 - val_accuracy: 0.7159\n",
      "WARNING:tensorflow:Can save best model only with val_acc available, skipping.\n",
      "Epoch 10/15\n",
      "281/281 [==============================] - 95s 339ms/step - loss: 0.7724 - accuracy: 0.8106 - val_loss: 1.1772 - val_accuracy: 0.7262\n",
      "WARNING:tensorflow:Can save best model only with val_acc available, skipping.\n",
      "Epoch 11/15\n",
      "281/281 [==============================] - 96s 342ms/step - loss: 0.7065 - accuracy: 0.8258 - val_loss: 1.1813 - val_accuracy: 0.7311\n",
      "WARNING:tensorflow:Can save best model only with val_acc available, skipping.\n",
      "Epoch 12/15\n",
      "281/281 [==============================] - 96s 342ms/step - loss: 0.6513 - accuracy: 0.8385 - val_loss: 1.1506 - val_accuracy: 0.7342\n",
      "WARNING:tensorflow:Can save best model only with val_acc available, skipping.\n",
      "Epoch 13/15\n",
      "281/281 [==============================] - 96s 342ms/step - loss: 0.6518 - accuracy: 0.8405 - val_loss: 1.1373 - val_accuracy: 0.7435\n",
      "WARNING:tensorflow:Can save best model only with val_acc available, skipping.\n",
      "Epoch 14/15\n",
      "281/281 [==============================] - 96s 343ms/step - loss: 0.5709 - accuracy: 0.8605 - val_loss: 1.1187 - val_accuracy: 0.7493\n",
      "WARNING:tensorflow:Can save best model only with val_acc available, skipping.\n",
      "Epoch 15/15\n",
      "281/281 [==============================] - 96s 343ms/step - loss: 0.5087 - accuracy: 0.8790 - val_loss: 1.1137 - val_accuracy: 0.7560\n",
      "WARNING:tensorflow:Can save best model only with val_acc available, skipping.\n"
     ]
    },
    {
     "data": {
      "image/png": "[encoded data removed]",
      "text/plain": [
       "<Figure size 864x288 with 2 Axes>"
      ]
     },
     "metadata": {
      "needs_background": "light"
     },
     "output_type": "display_data"
    }
   ],
   "source": [
    "# 모델의 실행\n",
    "history = model.fit(x_train, y_train, epochs=15, batch_size=32, callbacks=[es, mc], validation_data=(x_test, y_test))\n",
    "\n",
    "plt.figure(figsize=(12, 4))\n",
    "\n",
    "plt.subplot(1, 2, 1)\n",
    "plt.plot(history.history['loss'], 'b-', label='loss')\n",
    "plt.plot(history.history['val_loss'], 'r--', label='val_loss')\n",
    "plt.xlabel('Epoch')\n",
    "plt.legend()\n",
    "\n",
    "plt.subplot(1, 2, 2)\n",
    "plt.plot(history.history['accuracy'], 'g-', label='accuracy')\n",
    "plt.plot(history.history['val_accuracy'], 'k--', label='val_accuracy')\n",
    "plt.xlabel('Epoch')\n",
    "plt.legend()\n",
    "\n",
    "plt.show()"
   ]
  },
  {
   "cell_type": "markdown",
   "id": "e407df8a",
   "metadata": {},
   "source": [
    "## Discussion"
   ]
  },
  {
   "cell_type": "markdown",
   "id": "09b97c5d",
   "metadata": {},
   "source": [
    "1. 분류 모델의 accuracy가 기준 이상 높게 나왔는가?  \n",
    " - 3가지 단어 개수에 대해 8가지 머신러닝 기법을 적용하여 그중 최적의 솔루션을 도출하였다.  \n",
    " \n",
    " \n",
    "2. 분류 모델의 F1 score가 기준 이상 높게 나왔는가?  \n",
    " - Vocabulary size에 따른 각 머신러닝 모델의 성능변화 추이를 살피고, 해당 머신러닝 알고리즘의 특성에 근거해 원인을 분석하였다.  \n",
    " \n",
    " \n",
    "3. 딥러닝 모델을 활용해 성능이 비교 및 확인되었는가?  \n",
    " - 동일한 데이터셋과 전처리 조건으로 딥러닝 모델의 성능과 비교하여 결과에 따른 원인을 분석하였다.  "
   ]
  },
  {
   "cell_type": "markdown",
   "id": "57667cac",
   "metadata": {},
   "source": [
    "## Reference"
   ]
  },
  {
   "cell_type": "markdown",
   "id": "c914bd0d",
   "metadata": {},
   "source": [
    "1. https://github.com/miinkang/AI_Project_AIFFEL/blob/main/%5BGD-04%5DTFIDF_vectorization.ipynb\n",
    "2. https://pybasall.tistory.com/275\n",
    "3. https://blog.naver.com/wideeyed/221622877426\n",
    "4. https://www.geeksforgeeks.org/how-to-plot-multiple-data-columns-in-a-dataframe/\n",
    "5. https://dev-dain.tistory.com/92\n",
    "6. https://wikidocs.net/22933\n",
    "7. https://leonkong.cc/posts/python-deque.html"
   ]
  }
 ],
 "metadata": {
  "kernelspec": {
   "display_name": "Python 3 (ipykernel)",
   "language": "python",
   "name": "python3"
  },
  "language_info": {
   "codemirror_mode": {
    "name": "ipython",
    "version": 3
   },
   "file_extension": ".py",
   "mimetype": "text/x-python",
   "name": "python",
   "nbconvert_exporter": "python",
   "pygments_lexer": "ipython3",
   "version": "3.9.7"
  }
 },
 "nbformat": 4,
 "nbformat_minor": 5
}
